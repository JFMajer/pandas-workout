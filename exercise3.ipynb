{
 "cells": [
  {
   "cell_type": "code",
   "execution_count": 1,
   "id": "b308595b-3642-425d-b76b-41443e38848b",
   "metadata": {},
   "outputs": [],
   "source": [
    "# In this exercise, I want you to generate 10 random integers in the range 0 to 100.\n",
    "# (Remember that the np.random.randint function returns numbers that include the\n",
    "# lower bound but exclude the upper bound.) Create a series containing those num-\n",
    "# bers’ tens digits. Thus, if our series contains 10, 25, 32, we want the series 1, 2, 3."
   ]
  },
  {
   "cell_type": "code",
   "execution_count": 2,
   "id": "80767190-dccd-49cc-a722-1b8fc024c21c",
   "metadata": {},
   "outputs": [],
   "source": [
    "import pandas as pd\n",
    "import numpy as np"
   ]
  },
  {
   "cell_type": "code",
   "execution_count": 3,
   "id": "148fd748-3940-401e-8d00-6b1f3970b8b8",
   "metadata": {},
   "outputs": [
    {
     "data": {
      "text/plain": [
       "array([45, 27, 66, 42, 20, 33, 31, 31, 61, 73])"
      ]
     },
     "execution_count": 3,
     "metadata": {},
     "output_type": "execute_result"
    }
   ],
   "source": [
    "numbers = np.random.randint(0, 100, size=10)\n",
    "numbers"
   ]
  },
  {
   "cell_type": "code",
   "execution_count": 8,
   "id": "5ca8f500-6513-4eec-af19-9cddecfd2140",
   "metadata": {},
   "outputs": [
    {
     "data": {
      "text/plain": [
       "2"
      ]
     },
     "execution_count": 8,
     "metadata": {},
     "output_type": "execute_result"
    }
   ],
   "source": [
    "int(25 / 10)"
   ]
  },
  {
   "cell_type": "code",
   "execution_count": 19,
   "id": "a4a07e70-1a2d-402c-be9b-b3902a00a38b",
   "metadata": {},
   "outputs": [],
   "source": [
    "ser1 = pd.Series(data=(numbers // 10))"
   ]
  },
  {
   "cell_type": "code",
   "execution_count": 20,
   "id": "d5f52b1e-dbd6-4ee8-8df1-f5e4a935d91e",
   "metadata": {},
   "outputs": [
    {
     "data": {
      "text/plain": [
       "0    4\n",
       "1    2\n",
       "2    6\n",
       "3    4\n",
       "4    2\n",
       "5    3\n",
       "6    3\n",
       "7    3\n",
       "8    6\n",
       "9    7\n",
       "dtype: int32"
      ]
     },
     "execution_count": 20,
     "metadata": {},
     "output_type": "execute_result"
    }
   ],
   "source": [
    "ser1"
   ]
  },
  {
   "cell_type": "code",
   "execution_count": null,
   "id": "14d1f966-b263-4f40-a8ef-5bb63f640109",
   "metadata": {},
   "outputs": [],
   "source": []
  }
 ],
 "metadata": {
  "kernelspec": {
   "display_name": "Python 3 (ipykernel)",
   "language": "python",
   "name": "python3"
  },
  "language_info": {
   "codemirror_mode": {
    "name": "ipython",
    "version": 3
   },
   "file_extension": ".py",
   "mimetype": "text/x-python",
   "name": "python",
   "nbconvert_exporter": "python",
   "pygments_lexer": "ipython3",
   "version": "3.12.8"
  }
 },
 "nbformat": 4,
 "nbformat_minor": 5
}
