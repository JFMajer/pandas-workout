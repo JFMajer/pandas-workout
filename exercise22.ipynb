{
 "cells": [
  {
   "cell_type": "code",
   "execution_count": 1,
   "id": "391a27ea-9950-48b0-8106-4ba3f3524f18",
   "metadata": {},
   "outputs": [],
   "source": [
    "import pandas as pd\n",
    "import numpy as np"
   ]
  },
  {
   "cell_type": "code",
   "execution_count": 2,
   "id": "3f096b1c-9b5b-4f9e-947d-337251edac7a",
   "metadata": {},
   "outputs": [],
   "source": [
    "df = pd.read_csv(\"/Users/jakub/data/sat-scores.csv\", \n",
    "                 usecols=[\"Year\", \"State.Code\", \"Total.Math\", \"Total.Test-takers\", \"Total.Verbal\"])"
   ]
  },
  {
   "cell_type": "code",
   "execution_count": 4,
   "id": "19168a91-cd1f-4793-adb3-97a9b22f4870",
   "metadata": {},
   "outputs": [],
   "source": [
    "df = df.set_index([\"Year\", \"State.Code\"])"
   ]
  },
  {
   "cell_type": "code",
   "execution_count": 19,
   "id": "ba185bf8-2304-437a-9a71-f56248ad51b6",
   "metadata": {},
   "outputs": [
    {
     "data": {
      "text/plain": [
       "1552536"
      ]
     },
     "execution_count": 19,
     "metadata": {},
     "output_type": "execute_result"
    }
   ],
   "source": [
    "df.loc[2015, \"Total.Test-takers\"].sum()"
   ]
  },
  {
   "cell_type": "code",
   "execution_count": 40,
   "id": "d317571f-f70b-49e4-9fd4-74cfb64889b6",
   "metadata": {},
   "outputs": [
    {
     "data": {
      "text/plain": [
       "531.5"
      ]
     },
     "execution_count": 40,
     "metadata": {},
     "output_type": "execute_result"
    }
   ],
   "source": [
    "df.loc[[(2010, 'NY'), (2010, 'NY'), (2010, 'MA'), (2010, 'IL')], \"Total.Math\"].mean()"
   ]
  },
  {
   "cell_type": "code",
   "execution_count": 35,
   "id": "448d4f58-fd35-408f-803e-06be8b0138b6",
   "metadata": {},
   "outputs": [],
   "source": [
    "idx = pd.IndexSlice"
   ]
  },
  {
   "cell_type": "code",
   "execution_count": 41,
   "id": "e3e8d8be-b912-4cf2-a69e-7d1e4ef1c75d",
   "metadata": {},
   "outputs": [
    {
     "data": {
      "text/plain": [
       "497.3333333333333"
      ]
     },
     "execution_count": 41,
     "metadata": {},
     "output_type": "execute_result"
    }
   ],
   "source": [
    "df.loc[idx[[2012, 2013, 2014, 2015], ['AZ', 'CA', 'TX']], \"Total.Verbal\"].mean()"
   ]
  },
  {
   "cell_type": "code",
   "execution_count": 42,
   "id": "038a7926-f891-4c1e-9e39-cb243f4fbfa9",
   "metadata": {},
   "outputs": [
    {
     "data": {
      "text/plain": [
       "511.5833333333333"
      ]
     },
     "execution_count": 42,
     "metadata": {},
     "output_type": "execute_result"
    }
   ],
   "source": [
    "df.loc[([2012,2013,2014,2015], ['AZ', 'CA', 'TX']),\n",
    "'Total.Math'].mean()"
   ]
  },
  {
   "cell_type": "code",
   "execution_count": null,
   "id": "4eaa08a9-f8e3-4101-9228-a1cf9008b998",
   "metadata": {},
   "outputs": [],
   "source": []
  }
 ],
 "metadata": {
  "kernelspec": {
   "display_name": "Python 3 (ipykernel)",
   "language": "python",
   "name": "python3"
  },
  "language_info": {
   "codemirror_mode": {
    "name": "ipython",
    "version": 3
   },
   "file_extension": ".py",
   "mimetype": "text/x-python",
   "name": "python",
   "nbconvert_exporter": "python",
   "pygments_lexer": "ipython3",
   "version": "3.11.11"
  }
 },
 "nbformat": 4,
 "nbformat_minor": 5
}
