{
 "cells": [
  {
   "cell_type": "code",
   "execution_count": 1,
   "id": "affd63df-01cb-4e6d-a7fc-62f9fd0f0c9e",
   "metadata": {},
   "outputs": [],
   "source": [
    "import pandas as pd\n",
    "import numpy as np"
   ]
  },
  {
   "cell_type": "code",
   "execution_count": 2,
   "id": "ac9bae8d-8995-4155-8802-a6ba81f4cc49",
   "metadata": {},
   "outputs": [],
   "source": [
    "miles = pd.read_csv(\"taxi-distance.csv\", names=[\"miles\"]).squeeze()"
   ]
  },
  {
   "cell_type": "code",
   "execution_count": 3,
   "id": "c1ed8ff8-0f3c-44a4-b536-0691892b9812",
   "metadata": {},
   "outputs": [
    {
     "data": {
      "text/plain": [
       "count    9999.000000\n",
       "mean        3.158511\n",
       "std         4.037516\n",
       "min         0.000000\n",
       "25%         1.000000\n",
       "50%         1.700000\n",
       "75%         3.300000\n",
       "max        64.600000\n",
       "Name: miles, dtype: float64"
      ]
     },
     "execution_count": 3,
     "metadata": {},
     "output_type": "execute_result"
    }
   ],
   "source": [
    "miles.describe()"
   ]
  },
  {
   "cell_type": "code",
   "execution_count": 4,
   "id": "f18b3447-4d65-43ea-8a35-2ff240ae8b28",
   "metadata": {},
   "outputs": [
    {
     "data": {
      "text/plain": [
       "0    1.63\n",
       "1    0.46\n",
       "2    0.87\n",
       "3    2.13\n",
       "4    1.40\n",
       "Name: miles, dtype: float64"
      ]
     },
     "execution_count": 4,
     "metadata": {},
     "output_type": "execute_result"
    }
   ],
   "source": [
    "miles.head()"
   ]
  },
  {
   "cell_type": "code",
   "execution_count": 6,
   "id": "b2c66e53-dc71-41d4-aa91-dda0ec99a31e",
   "metadata": {},
   "outputs": [],
   "source": [
    "short_rides = miles[miles <= 2]"
   ]
  },
  {
   "cell_type": "code",
   "execution_count": 23,
   "id": "7dcb4192-92ec-485f-8ff1-b83df2e48c79",
   "metadata": {},
   "outputs": [],
   "source": [
    "medium_rides = miles[(miles > 2) & (miles <= 10)]"
   ]
  },
  {
   "cell_type": "code",
   "execution_count": 19,
   "id": "533b7e01-115c-42e5-99f9-ae368fb9ea99",
   "metadata": {},
   "outputs": [],
   "source": [
    "long_rides = miles[miles > 10]"
   ]
  },
  {
   "cell_type": "code",
   "execution_count": 20,
   "id": "20039505-f0c9-4f9f-9f9c-a9d5f10b3043",
   "metadata": {},
   "outputs": [
    {
     "data": {
      "text/plain": [
       "5890"
      ]
     },
     "execution_count": 20,
     "metadata": {},
     "output_type": "execute_result"
    }
   ],
   "source": [
    "short_rides.count()"
   ]
  },
  {
   "cell_type": "code",
   "execution_count": 24,
   "id": "845bd507-1a1a-4518-8ccc-de7c0d2cdc36",
   "metadata": {},
   "outputs": [
    {
     "data": {
      "text/plain": [
       "3402"
      ]
     },
     "execution_count": 24,
     "metadata": {},
     "output_type": "execute_result"
    }
   ],
   "source": [
    "medium_rides.count()"
   ]
  },
  {
   "cell_type": "code",
   "execution_count": 22,
   "id": "c791408c-5a32-43fe-b6dc-622d57a8f232",
   "metadata": {},
   "outputs": [
    {
     "data": {
      "text/plain": [
       "707"
      ]
     },
     "execution_count": 22,
     "metadata": {},
     "output_type": "execute_result"
    }
   ],
   "source": [
    "long_rides.count()"
   ]
  },
  {
   "cell_type": "code",
   "execution_count": 28,
   "id": "372e4ef7-4b14-463f-846d-09baf7cc2d18",
   "metadata": {},
   "outputs": [],
   "source": [
    "bins = [0, 2, 10, np.inf]\n",
    "labels = [\"Short\", \"Medium\", \"Long\"]"
   ]
  },
  {
   "cell_type": "code",
   "execution_count": 34,
   "id": "0ff43ad0-b113-4c29-900b-b46f3772c189",
   "metadata": {},
   "outputs": [],
   "source": [
    "ride_categories = pd.cut(miles, bins=bins, labels=labels, include_lowest=True)"
   ]
  },
  {
   "cell_type": "code",
   "execution_count": 35,
   "id": "748a5066-07d2-43ec-8dbc-25dcc91821ce",
   "metadata": {},
   "outputs": [
    {
     "data": {
      "text/plain": [
       "miles\n",
       "Short     5890\n",
       "Medium    3402\n",
       "Long       707\n",
       "Name: count, dtype: int64"
      ]
     },
     "execution_count": 35,
     "metadata": {},
     "output_type": "execute_result"
    }
   ],
   "source": [
    "ride_categories.value_counts()"
   ]
  },
  {
   "cell_type": "code",
   "execution_count": null,
   "id": "9eaca898-5435-4541-96fa-38d3e5123d34",
   "metadata": {},
   "outputs": [],
   "source": []
  }
 ],
 "metadata": {
  "kernelspec": {
   "display_name": "Python 3 (ipykernel)",
   "language": "python",
   "name": "python3"
  },
  "language_info": {
   "codemirror_mode": {
    "name": "ipython",
    "version": 3
   },
   "file_extension": ".py",
   "mimetype": "text/x-python",
   "name": "python",
   "nbconvert_exporter": "python",
   "pygments_lexer": "ipython3",
   "version": "3.12.8"
  }
 },
 "nbformat": 4,
 "nbformat_minor": 5
}
