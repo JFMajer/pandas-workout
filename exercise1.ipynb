{
 "cells": [
  {
   "cell_type": "code",
   "execution_count": 3,
   "id": "5f4154b2-1886-4f1b-8929-d3e345ecc820",
   "metadata": {},
   "outputs": [],
   "source": [
    "import pandas as pd\n",
    "import numpy as np"
   ]
  },
  {
   "cell_type": "code",
   "execution_count": 6,
   "id": "52e8ff0e-6733-4c67-acaf-130735f0c218",
   "metadata": {},
   "outputs": [],
   "source": [
    "scores = np.random.randint(70, 100, size=10)"
   ]
  },
  {
   "cell_type": "code",
   "execution_count": 7,
   "id": "4868ba38-d083-4e09-8ce2-bf33b21e5078",
   "metadata": {},
   "outputs": [
    {
     "data": {
      "text/plain": [
       "array([92, 92, 70, 93, 74, 90, 79, 79, 84, 83])"
      ]
     },
     "execution_count": 7,
     "metadata": {},
     "output_type": "execute_result"
    }
   ],
   "source": [
    "scores"
   ]
  },
  {
   "cell_type": "code",
   "execution_count": 39,
   "id": "5c61dc7b-4505-427a-866f-44deba1b92fa",
   "metadata": {},
   "outputs": [],
   "source": [
    "months = \"September October November December January February March April May June\".split()"
   ]
  },
  {
   "cell_type": "code",
   "execution_count": 40,
   "id": "39f15733-2b2a-4a50-a39c-26e7e94ee1a7",
   "metadata": {},
   "outputs": [],
   "source": [
    "ser = pd.Series(data=scores, index=months)"
   ]
  },
  {
   "cell_type": "code",
   "execution_count": 41,
   "id": "30087668-19bc-4354-978b-291f87c65147",
   "metadata": {},
   "outputs": [
    {
     "data": {
      "text/plain": [
       "September    92\n",
       "October      92\n",
       "November     70\n",
       "December     93\n",
       "January      74\n",
       "February     90\n",
       "March        79\n",
       "April        79\n",
       "May          84\n",
       "June         83\n",
       "dtype: int32"
      ]
     },
     "execution_count": 41,
     "metadata": {},
     "output_type": "execute_result"
    }
   ],
   "source": [
    "ser"
   ]
  },
  {
   "cell_type": "code",
   "execution_count": 11,
   "id": "9960df6d-22d6-45f7-96a6-558e3d7a632d",
   "metadata": {},
   "outputs": [
    {
     "data": {
      "text/plain": [
       "83.6"
      ]
     },
     "execution_count": 11,
     "metadata": {},
     "output_type": "execute_result"
    }
   ],
   "source": [
    "ser.mean()"
   ]
  },
  {
   "cell_type": "code",
   "execution_count": 25,
   "id": "dc09a1ac-40c4-47fb-b1ab-d1ac7ed7c671",
   "metadata": {},
   "outputs": [
    {
     "data": {
      "text/plain": [
       "84.2"
      ]
     },
     "execution_count": 25,
     "metadata": {},
     "output_type": "execute_result"
    }
   ],
   "source": [
    "ser.iloc[:5].mean()"
   ]
  },
  {
   "cell_type": "code",
   "execution_count": 27,
   "id": "d0069d67-e8d8-4a0d-b104-2b4567be50d5",
   "metadata": {},
   "outputs": [
    {
     "data": {
      "text/plain": [
       "83.0"
      ]
     },
     "execution_count": 27,
     "metadata": {},
     "output_type": "execute_result"
    }
   ],
   "source": [
    "ser.iloc[5:].mean()"
   ]
  },
  {
   "cell_type": "code",
   "execution_count": 28,
   "id": "d718dfb2-1312-4352-9208-bf83bb8982f8",
   "metadata": {},
   "outputs": [],
   "source": [
    "means = [ser.iloc[:5].mean(), ser.iloc[5:].mean()]"
   ]
  },
  {
   "cell_type": "code",
   "execution_count": 32,
   "id": "3569a742-53cc-41f3-b186-9f98488763c5",
   "metadata": {},
   "outputs": [],
   "source": [
    "ser2 = pd.Series(data=means, index=['first 5 months', 'last 5 months'])"
   ]
  },
  {
   "cell_type": "code",
   "execution_count": 34,
   "id": "46fc8e4e-c211-4c9b-8f33-c78e3ffe0365",
   "metadata": {},
   "outputs": [
    {
     "data": {
      "text/plain": [
       "first 5 months    NaN\n",
       "last 5 months    -1.2\n",
       "dtype: float64"
      ]
     },
     "execution_count": 34,
     "metadata": {},
     "output_type": "execute_result"
    }
   ],
   "source": [
    "ser2.diff()"
   ]
  },
  {
   "cell_type": "code",
   "execution_count": 38,
   "id": "6be0a16b-4ffa-41d5-930c-c85d56a5d661",
   "metadata": {},
   "outputs": [
    {
     "name": "stdout",
     "output_type": "stream",
     "text": [
      "Difference between first 5 months and last 5 months is: 1.20\n"
     ]
    }
   ],
   "source": [
    "difference = ser.iloc[:5].mean() - ser.iloc[5:].mean()\n",
    "print(f\"Difference between first 5 months and last 5 months is: {difference:.2f}\")"
   ]
  },
  {
   "cell_type": "code",
   "execution_count": 43,
   "id": "8b940c76-7684-4166-9bd7-8657fb7aea3e",
   "metadata": {},
   "outputs": [
    {
     "data": {
      "text/plain": [
       "84.2"
      ]
     },
     "execution_count": 43,
     "metadata": {},
     "output_type": "execute_result"
    }
   ],
   "source": [
    "ser.loc['September':'January'].mean()"
   ]
  },
  {
   "cell_type": "code",
   "execution_count": 44,
   "id": "f2273796-a4a4-49e6-8809-74d5db09d4ed",
   "metadata": {},
   "outputs": [
    {
     "data": {
      "text/plain": [
       "'December'"
      ]
     },
     "execution_count": 44,
     "metadata": {},
     "output_type": "execute_result"
    }
   ],
   "source": [
    "ser.idxmax()"
   ]
  },
  {
   "cell_type": "code",
   "execution_count": 45,
   "id": "ebc61cb2-4b54-4226-9280-a840e1b07184",
   "metadata": {},
   "outputs": [
    {
     "data": {
      "text/plain": [
       "dtype('int32')"
      ]
     },
     "execution_count": 45,
     "metadata": {},
     "output_type": "execute_result"
    }
   ],
   "source": [
    "ser.dtype"
   ]
  },
  {
   "cell_type": "code",
   "execution_count": null,
   "id": "7a05d92f-bf16-4368-a218-ee582e4d3ee8",
   "metadata": {},
   "outputs": [],
   "source": []
  }
 ],
 "metadata": {
  "kernelspec": {
   "display_name": "Python 3 (ipykernel)",
   "language": "python",
   "name": "python3"
  },
  "language_info": {
   "codemirror_mode": {
    "name": "ipython",
    "version": 3
   },
   "file_extension": ".py",
   "mimetype": "text/x-python",
   "name": "python",
   "nbconvert_exporter": "python",
   "pygments_lexer": "ipython3",
   "version": "3.12.8"
  }
 },
 "nbformat": 4,
 "nbformat_minor": 5
}
