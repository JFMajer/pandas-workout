{
 "cells": [
  {
   "cell_type": "code",
   "execution_count": 1,
   "id": "6aa63a8e-3ae6-4919-87ce-46782aa24975",
   "metadata": {},
   "outputs": [],
   "source": [
    "#  Generate a series of 100,000 floats in a normal distribution with a mean of 0\n",
    "# and a standard deviation of 100.\n",
    "#  Get the descriptive statistics for this series. How close are the mean and\n",
    "# median? (You don’t need to calculate the difference; rather, consider why they\n",
    "# aren’t the same.)\n",
    "#  Replace the minimum value with 5 times the maximum value.\n",
    "#  Get the descriptive statistics again. Did the mean, median, and standard devia-\n",
    "# tions change from their previous values? (Again, it’s enough to see the differ-\n",
    "# ence without calculating it.) If so, why?"
   ]
  },
  {
   "cell_type": "code",
   "execution_count": 2,
   "id": "af9b37c4-8a19-424d-9d51-a1cf461e3c56",
   "metadata": {},
   "outputs": [],
   "source": [
    "import pandas as pd\n",
    "import numpy as np"
   ]
  },
  {
   "cell_type": "code",
   "execution_count": 14,
   "id": "d516ae4a-7b54-4e5f-b373-20e656e3ed0b",
   "metadata": {},
   "outputs": [],
   "source": [
    "numbers = np.random.normal(loc=0, scale=100, size=100000)"
   ]
  },
  {
   "cell_type": "code",
   "execution_count": 15,
   "id": "7a307798-c017-4716-9750-016787f1e6c5",
   "metadata": {},
   "outputs": [
    {
     "data": {
      "text/plain": [
       "array([ 100.08444659,  -17.70084926,  129.74682527, ..., -150.83772453,\n",
       "        104.4182795 ,    9.61853878])"
      ]
     },
     "execution_count": 15,
     "metadata": {},
     "output_type": "execute_result"
    }
   ],
   "source": [
    "numbers"
   ]
  },
  {
   "cell_type": "code",
   "execution_count": 16,
   "id": "383c0c95-b000-4fb6-bed0-ddf1706aea24",
   "metadata": {},
   "outputs": [],
   "source": [
    "ser1 = pd.Series(data=numbers)"
   ]
  },
  {
   "cell_type": "code",
   "execution_count": 17,
   "id": "6d7d9538-856c-426f-ad96-6fdf907a3f65",
   "metadata": {},
   "outputs": [
    {
     "data": {
      "text/plain": [
       "-0.2935249055422693"
      ]
     },
     "execution_count": 17,
     "metadata": {},
     "output_type": "execute_result"
    }
   ],
   "source": [
    "ser1.mean()"
   ]
  },
  {
   "cell_type": "code",
   "execution_count": 20,
   "id": "a30af30d-5806-48ef-961a-20cb0db2a89b",
   "metadata": {},
   "outputs": [
    {
     "data": {
      "text/plain": [
       "-0.47607396202576324"
      ]
     },
     "execution_count": 20,
     "metadata": {},
     "output_type": "execute_result"
    }
   ],
   "source": [
    "ser1.median()"
   ]
  },
  {
   "cell_type": "code",
   "execution_count": 21,
   "id": "0135ff35-2707-4f9b-8742-33fc8249fdb4",
   "metadata": {},
   "outputs": [
    {
     "data": {
      "text/plain": [
       "count    100000.000000\n",
       "mean         -0.293525\n",
       "std          99.426384\n",
       "min        -415.951616\n",
       "25%         -67.409001\n",
       "50%          -0.476074\n",
       "75%          66.638096\n",
       "max         458.334560\n",
       "dtype: float64"
      ]
     },
     "execution_count": 21,
     "metadata": {},
     "output_type": "execute_result"
    }
   ],
   "source": [
    "ser1.describe()"
   ]
  },
  {
   "cell_type": "code",
   "execution_count": 26,
   "id": "a891cd68-a774-4344-93d6-7723384b597c",
   "metadata": {},
   "outputs": [],
   "source": [
    "ser1.loc[ser1 == ser1.min()] = 5*ser1.max()"
   ]
  },
  {
   "cell_type": "code",
   "execution_count": 27,
   "id": "9b18bb05-6118-4c48-a0b0-e5261308d474",
   "metadata": {},
   "outputs": [
    {
     "data": {
      "text/plain": [
       "count    100000.000000\n",
       "mean         -0.266449\n",
       "std          99.681538\n",
       "min        -412.552654\n",
       "25%         -67.407641\n",
       "50%          -0.473823\n",
       "75%          66.641367\n",
       "max        2291.672798\n",
       "dtype: float64"
      ]
     },
     "execution_count": 27,
     "metadata": {},
     "output_type": "execute_result"
    }
   ],
   "source": [
    "ser1.describe()"
   ]
  },
  {
   "cell_type": "code",
   "execution_count": 28,
   "id": "18ecdea9-8a98-4f5c-92ed-4fe1438ce74f",
   "metadata": {},
   "outputs": [
    {
     "data": {
      "text/plain": [
       "-0.47382278493849106"
      ]
     },
     "execution_count": 28,
     "metadata": {},
     "output_type": "execute_result"
    }
   ],
   "source": [
    "ser1.median()"
   ]
  },
  {
   "cell_type": "code",
   "execution_count": null,
   "id": "712fdecb-c79f-479e-9b1b-6ed8413adfeb",
   "metadata": {},
   "outputs": [],
   "source": []
  }
 ],
 "metadata": {
  "kernelspec": {
   "display_name": "Python 3 (ipykernel)",
   "language": "python",
   "name": "python3"
  },
  "language_info": {
   "codemirror_mode": {
    "name": "ipython",
    "version": 3
   },
   "file_extension": ".py",
   "mimetype": "text/x-python",
   "name": "python",
   "nbconvert_exporter": "python",
   "pygments_lexer": "ipython3",
   "version": "3.12.8"
  }
 },
 "nbformat": 4,
 "nbformat_minor": 5
}
