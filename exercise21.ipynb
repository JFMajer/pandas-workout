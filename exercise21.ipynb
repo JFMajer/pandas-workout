{
 "cells": [
  {
   "cell_type": "code",
   "execution_count": 25,
   "id": "45f34761-3466-45f8-9479-5e27c1526ffe",
   "metadata": {},
   "outputs": [],
   "source": [
    "import pandas as pd\n",
    "import numpy as np"
   ]
  },
  {
   "cell_type": "code",
   "execution_count": 26,
   "id": "195eaea6-6d7c-43e7-a755-6f84287d5b7e",
   "metadata": {},
   "outputs": [],
   "source": [
    "df = pd.read_csv(\"/Users/jakub/data/nyc-parking-violations-2020.csv\", \n",
    "                 usecols=[\"Date First Observed\", \"Plate ID\", \"Registration State\", \"Issue Date\", \"Vehicle Make\", \"Street Name\", \"Vehicle Color\"])"
   ]
  },
  {
   "cell_type": "code",
   "execution_count": 32,
   "id": "96c6f169-06ac-44d9-b63c-b37e324c8ac7",
   "metadata": {},
   "outputs": [],
   "source": [
    "df = df.set_index(\"Issue Date\")"
   ]
  },
  {
   "cell_type": "code",
   "execution_count": 33,
   "id": "97d128e6-7804-43fe-b503-a4c4cf346792",
   "metadata": {},
   "outputs": [
    {
     "data": {
      "text/plain": [
       "Vehicle Make\n",
       "TOYOT    2953\n",
       "HONDA    2901\n",
       "FORD     2350\n",
       "NISSA    2246\n",
       "CHEVR    1303\n",
       "         ... \n",
       "VD          1\n",
       "NAVIS       1\n",
       "REVEL       1\n",
       "JENSE       1\n",
       "HYDI        1\n",
       "Name: count, Length: 105, dtype: int64"
      ]
     },
     "execution_count": 33,
     "metadata": {},
     "output_type": "execute_result"
    }
   ],
   "source": [
    "df.loc[\"02/01/2020 12:00:00 AM\"][\"Vehicle Make\"].value_counts()"
   ]
  },
  {
   "cell_type": "code",
   "execution_count": 34,
   "id": "9397037c-ab0e-4d6e-a4b1-ce2b3643bda2",
   "metadata": {},
   "outputs": [
    {
     "data": {
      "text/plain": [
       "Street Name\n",
       "Broadway          783\n",
       "3rd Ave           519\n",
       "2nd Ave           336\n",
       "Madison Ave       292\n",
       "Lexington Ave     286\n",
       "                 ... \n",
       "N/S E 156TH ST      1\n",
       "MELROSE AVE         1\n",
       "E 153RD ST          1\n",
       "65TH STREET         1\n",
       "EAST AVENUE         1\n",
       "Name: count, Length: 4097, dtype: int64"
      ]
     },
     "execution_count": 34,
     "metadata": {},
     "output_type": "execute_result"
    }
   ],
   "source": [
    "df.loc[\"01/06/2020 12:00:00 AM\"][\"Street Name\"].value_counts()"
   ]
  },
  {
   "cell_type": "code",
   "execution_count": 40,
   "id": "c9817b11-fca0-4b9a-84e3-6a491d400901",
   "metadata": {},
   "outputs": [],
   "source": [
    "df = df.reset_index().set_index(\"Vehicle Color\")"
   ]
  },
  {
   "cell_type": "code",
   "execution_count": 44,
   "id": "f04f102b-9686-4166-a56e-4fb293357c8c",
   "metadata": {},
   "outputs": [
    {
     "data": {
      "text/plain": [
       "Vehicle Make\n",
       "HONDA    39353\n",
       "FORD     30990\n",
       "TOYOT    30925\n",
       "NISSA    24950\n",
       "FRUEH    18506\n",
       "         ...  \n",
       "MOC          1\n",
       "PETS         1\n",
       "ISUNZ        1\n",
       "BKSER        1\n",
       "GMBH         1\n",
       "Name: count, Length: 839, dtype: int64"
      ]
     },
     "execution_count": 44,
     "metadata": {},
     "output_type": "execute_result"
    }
   ],
   "source": [
    "df.loc[[\"RED\", \"BLUE\"], \"Vehicle Make\"].value_counts()"
   ]
  },
  {
   "cell_type": "code",
   "execution_count": null,
   "id": "10104a5e-7b4d-4b08-9ab9-77680771cf19",
   "metadata": {},
   "outputs": [],
   "source": []
  }
 ],
 "metadata": {
  "kernelspec": {
   "display_name": "Python 3 (ipykernel)",
   "language": "python",
   "name": "python3"
  },
  "language_info": {
   "codemirror_mode": {
    "name": "ipython",
    "version": 3
   },
   "file_extension": ".py",
   "mimetype": "text/x-python",
   "name": "python",
   "nbconvert_exporter": "python",
   "pygments_lexer": "ipython3",
   "version": "3.12.8"
  }
 },
 "nbformat": 4,
 "nbformat_minor": 5
}
