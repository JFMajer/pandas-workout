{
 "cells": [
  {
   "cell_type": "code",
   "execution_count": 1,
   "id": "a111d255-e0af-42f3-a6c5-03c69ab270be",
   "metadata": {},
   "outputs": [],
   "source": [
    "import pandas as pd\n",
    "import numpy as np"
   ]
  },
  {
   "cell_type": "code",
   "execution_count": 17,
   "id": "c12ada1a-c836-4bf1-a5dc-49fa96a1a8f1",
   "metadata": {},
   "outputs": [],
   "source": [
    "df = pd.read_csv(\"/Users/jakub/data/nyc_taxi_2020-01.csv\", usecols=[\"passenger_count\", \"total_amount\", \"payment_type\"], \n",
    "                 dtype={'passenger_count': pd.Int8Dtype(), 'payment_type': pd.Int8Dtype(), 'total_amount': pd.Float32Dtype()})"
   ]
  },
  {
   "cell_type": "code",
   "execution_count": 20,
   "id": "2f9e1a8d-df41-418d-8ca6-4fca072f03cc",
   "metadata": {},
   "outputs": [
    {
     "data": {
      "text/plain": [
       "passenger_count    65441\n",
       "payment_type       65441\n",
       "total_amount           0\n",
       "dtype: int64"
      ]
     },
     "execution_count": 20,
     "metadata": {},
     "output_type": "execute_result"
    }
   ],
   "source": [
    "df.isna().sum()"
   ]
  },
  {
   "cell_type": "code",
   "execution_count": 21,
   "id": "ba322b29-9d9f-4fc1-a985-f2fcabca961e",
   "metadata": {},
   "outputs": [],
   "source": [
    "df = df.dropna().copy()"
   ]
  }
 ],
 "metadata": {
  "kernelspec": {
   "display_name": "Python 3 (ipykernel)",
   "language": "python",
   "name": "python3"
  },
  "language_info": {
   "codemirror_mode": {
    "name": "ipython",
    "version": 3
   },
   "file_extension": ".py",
   "mimetype": "text/x-python",
   "name": "python",
   "nbconvert_exporter": "python",
   "pygments_lexer": "ipython3",
   "version": "3.12.8"
  }
 },
 "nbformat": 4,
 "nbformat_minor": 5
}
