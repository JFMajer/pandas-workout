{
 "cells": [
  {
   "cell_type": "code",
   "execution_count": 23,
   "id": "7f2b487a-0f7a-4fca-beed-5f3251e974d4",
   "metadata": {},
   "outputs": [],
   "source": [
    "import pandas as pd\n",
    "import numpy as np"
   ]
  },
  {
   "cell_type": "code",
   "execution_count": 24,
   "id": "e6577df2-9ea8-4338-9f15-00a463825f28",
   "metadata": {},
   "outputs": [],
   "source": [
    "temp_series = pd.read_csv(\"files/data/nyc-temps.txt\", names=[\"temps\"]).squeeze()"
   ]
  },
  {
   "cell_type": "code",
   "execution_count": 25,
   "id": "acda2229-6351-4766-9a4a-f19003791828",
   "metadata": {},
   "outputs": [],
   "source": [
    "hours = [0, 3, 6, 9, 12, 15, 18, 21] * 91\n",
    "hours.append(0)"
   ]
  },
  {
   "cell_type": "code",
   "execution_count": 26,
   "id": "bd10ba34-8b66-4c5f-a19e-8c7d5f5f6eeb",
   "metadata": {},
   "outputs": [],
   "source": [
    "df = pd.DataFrame({'temp': temp_series, \n",
    "                'hour': hours})"
   ]
  },
  {
   "cell_type": "code",
   "execution_count": 27,
   "id": "25ea382e-19a6-47b3-9001-d38ee5d1797a",
   "metadata": {},
   "outputs": [],
   "source": [
    "df.loc[df['temp'] < 0, 'temp'] = 0"
   ]
  },
  {
   "cell_type": "code",
   "execution_count": 28,
   "id": "a19c4ff7-5662-44e1-93aa-a741a6d71dd6",
   "metadata": {},
   "outputs": [
    {
     "data": {
      "text/html": [
       "<div>\n",
       "<style scoped>\n",
       "    .dataframe tbody tr th:only-of-type {\n",
       "        vertical-align: middle;\n",
       "    }\n",
       "\n",
       "    .dataframe tbody tr th {\n",
       "        vertical-align: top;\n",
       "    }\n",
       "\n",
       "    .dataframe thead th {\n",
       "        text-align: right;\n",
       "    }\n",
       "</style>\n",
       "<table border=\"1\" class=\"dataframe\">\n",
       "  <thead>\n",
       "    <tr style=\"text-align: right;\">\n",
       "      <th></th>\n",
       "      <th>temp</th>\n",
       "      <th>hour</th>\n",
       "    </tr>\n",
       "  </thead>\n",
       "  <tbody>\n",
       "    <tr>\n",
       "      <th>0</th>\n",
       "      <td>0</td>\n",
       "      <td>0</td>\n",
       "    </tr>\n",
       "    <tr>\n",
       "      <th>1</th>\n",
       "      <td>0</td>\n",
       "      <td>3</td>\n",
       "    </tr>\n",
       "    <tr>\n",
       "      <th>2</th>\n",
       "      <td>0</td>\n",
       "      <td>6</td>\n",
       "    </tr>\n",
       "    <tr>\n",
       "      <th>3</th>\n",
       "      <td>0</td>\n",
       "      <td>9</td>\n",
       "    </tr>\n",
       "    <tr>\n",
       "      <th>4</th>\n",
       "      <td>0</td>\n",
       "      <td>12</td>\n",
       "    </tr>\n",
       "    <tr>\n",
       "      <th>...</th>\n",
       "      <td>...</td>\n",
       "      <td>...</td>\n",
       "    </tr>\n",
       "    <tr>\n",
       "      <th>724</th>\n",
       "      <td>2</td>\n",
       "      <td>12</td>\n",
       "    </tr>\n",
       "    <tr>\n",
       "      <th>725</th>\n",
       "      <td>2</td>\n",
       "      <td>15</td>\n",
       "    </tr>\n",
       "    <tr>\n",
       "      <th>726</th>\n",
       "      <td>2</td>\n",
       "      <td>18</td>\n",
       "    </tr>\n",
       "    <tr>\n",
       "      <th>727</th>\n",
       "      <td>2</td>\n",
       "      <td>21</td>\n",
       "    </tr>\n",
       "    <tr>\n",
       "      <th>728</th>\n",
       "      <td>2</td>\n",
       "      <td>0</td>\n",
       "    </tr>\n",
       "  </tbody>\n",
       "</table>\n",
       "<p>729 rows × 2 columns</p>\n",
       "</div>"
      ],
      "text/plain": [
       "     temp  hour\n",
       "0       0     0\n",
       "1       0     3\n",
       "2       0     6\n",
       "3       0     9\n",
       "4       0    12\n",
       "..    ...   ...\n",
       "724     2    12\n",
       "725     2    15\n",
       "726     2    18\n",
       "727     2    21\n",
       "728     2     0\n",
       "\n",
       "[729 rows x 2 columns]"
      ]
     },
     "execution_count": 28,
     "metadata": {},
     "output_type": "execute_result"
    }
   ],
   "source": [
    "df"
   ]
  },
  {
   "cell_type": "code",
   "execution_count": null,
   "id": "67e69d64-da1d-4e61-ba2e-629a7a0b7800",
   "metadata": {},
   "outputs": [],
   "source": []
  }
 ],
 "metadata": {
  "kernelspec": {
   "display_name": "Python 3 (ipykernel)",
   "language": "python",
   "name": "python3"
  },
  "language_info": {
   "codemirror_mode": {
    "name": "ipython",
    "version": 3
   },
   "file_extension": ".py",
   "mimetype": "text/x-python",
   "name": "python",
   "nbconvert_exporter": "python",
   "pygments_lexer": "ipython3",
   "version": "3.11.11"
  }
 },
 "nbformat": 4,
 "nbformat_minor": 5
}
