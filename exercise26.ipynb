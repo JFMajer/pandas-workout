{
 "cells": [
  {
   "cell_type": "code",
   "execution_count": 101,
   "id": "cb3d8190-90c7-490e-b950-4bc5d520b6f4",
   "metadata": {},
   "outputs": [],
   "source": [
    "import pandas as pd\n",
    "import numpy as np"
   ]
  },
  {
   "cell_type": "code",
   "execution_count": 102,
   "id": "e9c8e843-05d9-4b46-8e2b-b147df07aef2",
   "metadata": {},
   "outputs": [],
   "source": [
    "df = pd.read_csv(\"/Users/jakub/data/celebrity_deaths_2016.csv\", \n",
    "                 usecols=[\"dateofdeath\", \"age\",])"
   ]
  },
  {
   "cell_type": "code",
   "execution_count": null,
   "id": "c7d3ce52-597f-407d-b620-3bd3ed2a6cc4",
   "metadata": {},
   "outputs": [],
   "source": []
  },
  {
   "cell_type": "code",
   "execution_count": 103,
   "id": "e7d99a6a-3c5f-45dd-93c0-76bc0cccf594",
   "metadata": {},
   "outputs": [],
   "source": [
    "df[\"month\"] = df[\"dateofdeath\"].str.slice(5,7)"
   ]
  },
  {
   "cell_type": "code",
   "execution_count": 104,
   "id": "c10e8c6a-ad6e-4637-a401-cdd53bc9e713",
   "metadata": {},
   "outputs": [],
   "source": [
    "df = df.set_index(\"month\")"
   ]
  },
  {
   "cell_type": "code",
   "execution_count": 105,
   "id": "45db7f3a-a14f-4ae4-9876-b2fd19b78e33",
   "metadata": {},
   "outputs": [],
   "source": [
    "df = df.sort_index()"
   ]
  },
  {
   "cell_type": "code",
   "execution_count": 106,
   "id": "5a821bc5-6df3-4934-92de-54368d90b1f8",
   "metadata": {},
   "outputs": [],
   "source": [
    "df[\"age\"] = pd.to_numeric(df['age'], errors=\"coerce\")"
   ]
  },
  {
   "cell_type": "code",
   "execution_count": 107,
   "id": "13e5788f-4faf-4fd2-bfae-b75f5a15520b",
   "metadata": {},
   "outputs": [],
   "source": [
    "df = df.dropna(subset=['age'])"
   ]
  },
  {
   "cell_type": "code",
   "execution_count": 108,
   "id": "c3dda367-934d-411a-8791-f8f11fb1cb29",
   "metadata": {},
   "outputs": [
    {
     "data": {
      "text/html": [
       "<div>\n",
       "<style scoped>\n",
       "    .dataframe tbody tr th:only-of-type {\n",
       "        vertical-align: middle;\n",
       "    }\n",
       "\n",
       "    .dataframe tbody tr th {\n",
       "        vertical-align: top;\n",
       "    }\n",
       "\n",
       "    .dataframe thead th {\n",
       "        text-align: right;\n",
       "    }\n",
       "</style>\n",
       "<table border=\"1\" class=\"dataframe\">\n",
       "  <thead>\n",
       "    <tr style=\"text-align: right;\">\n",
       "      <th></th>\n",
       "      <th>dateofdeath</th>\n",
       "      <th>age</th>\n",
       "    </tr>\n",
       "    <tr>\n",
       "      <th>month</th>\n",
       "      <th></th>\n",
       "      <th></th>\n",
       "    </tr>\n",
       "  </thead>\n",
       "  <tbody>\n",
       "    <tr>\n",
       "      <th>01</th>\n",
       "      <td>2016-01-01</td>\n",
       "      <td>71.0</td>\n",
       "    </tr>\n",
       "    <tr>\n",
       "      <th>01</th>\n",
       "      <td>2016-01-21</td>\n",
       "      <td>47.0</td>\n",
       "    </tr>\n",
       "    <tr>\n",
       "      <th>01</th>\n",
       "      <td>2016-01-21</td>\n",
       "      <td>87.0</td>\n",
       "    </tr>\n",
       "    <tr>\n",
       "      <th>01</th>\n",
       "      <td>2016-01-21</td>\n",
       "      <td>90.0</td>\n",
       "    </tr>\n",
       "    <tr>\n",
       "      <th>01</th>\n",
       "      <td>2016-01-21</td>\n",
       "      <td>73.0</td>\n",
       "    </tr>\n",
       "    <tr>\n",
       "      <th>...</th>\n",
       "      <td>...</td>\n",
       "      <td>...</td>\n",
       "    </tr>\n",
       "    <tr>\n",
       "      <th>12</th>\n",
       "      <td>2016-12-10</td>\n",
       "      <td>63.0</td>\n",
       "    </tr>\n",
       "    <tr>\n",
       "      <th>12</th>\n",
       "      <td>2016-12-10</td>\n",
       "      <td>20.0</td>\n",
       "    </tr>\n",
       "    <tr>\n",
       "      <th>12</th>\n",
       "      <td>2016-12-10</td>\n",
       "      <td>57.0</td>\n",
       "    </tr>\n",
       "    <tr>\n",
       "      <th>12</th>\n",
       "      <td>2016-12-10</td>\n",
       "      <td>78.0</td>\n",
       "    </tr>\n",
       "    <tr>\n",
       "      <th>12</th>\n",
       "      <td>2016-12-27</td>\n",
       "      <td>84.0</td>\n",
       "    </tr>\n",
       "  </tbody>\n",
       "</table>\n",
       "<p>6505 rows × 2 columns</p>\n",
       "</div>"
      ],
      "text/plain": [
       "      dateofdeath   age\n",
       "month                  \n",
       "01     2016-01-01  71.0\n",
       "01     2016-01-21  47.0\n",
       "01     2016-01-21  87.0\n",
       "01     2016-01-21  90.0\n",
       "01     2016-01-21  73.0\n",
       "...           ...   ...\n",
       "12     2016-12-10  63.0\n",
       "12     2016-12-10  20.0\n",
       "12     2016-12-10  57.0\n",
       "12     2016-12-10  78.0\n",
       "12     2016-12-27  84.0\n",
       "\n",
       "[6505 rows x 2 columns]"
      ]
     },
     "execution_count": 108,
     "metadata": {},
     "output_type": "execute_result"
    }
   ],
   "source": [
    "df"
   ]
  },
  {
   "cell_type": "code",
   "execution_count": 115,
   "id": "06430c71-cb81-4101-94f3-ceef66009d62",
   "metadata": {},
   "outputs": [],
   "source": [
    "df = df.loc[df[\"age\"] < 125, :]"
   ]
  },
  {
   "cell_type": "code",
   "execution_count": 118,
   "id": "7379c843-cec6-4d48-9558-30ffb0917754",
   "metadata": {},
   "outputs": [
    {
     "data": {
      "text/plain": [
       "77.0192871470452"
      ]
     },
     "execution_count": 118,
     "metadata": {},
     "output_type": "execute_result"
    }
   ],
   "source": [
    "df[\"age\"].mean()"
   ]
  }
 ],
 "metadata": {
  "kernelspec": {
   "display_name": "Python 3 (ipykernel)",
   "language": "python",
   "name": "python3"
  },
  "language_info": {
   "codemirror_mode": {
    "name": "ipython",
    "version": 3
   },
   "file_extension": ".py",
   "mimetype": "text/x-python",
   "name": "python",
   "nbconvert_exporter": "python",
   "pygments_lexer": "ipython3",
   "version": "3.12.8"
  }
 },
 "nbformat": 4,
 "nbformat_minor": 5
}
