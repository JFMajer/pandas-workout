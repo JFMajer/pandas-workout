{
 "cells": [
  {
   "cell_type": "code",
   "execution_count": 1,
   "id": "de3707d7-6a73-4e25-b9e2-275fa1ee5c9e",
   "metadata": {},
   "outputs": [],
   "source": [
    "import pandas as pd\n",
    "import numpy as np"
   ]
  },
  {
   "cell_type": "code",
   "execution_count": 4,
   "id": "c8f4167e-f3ee-4115-85f6-d5ba62b452db",
   "metadata": {},
   "outputs": [],
   "source": [
    "rides_july = pd.read_csv(\"/Users/jakub/data/nyc_taxi_2019-07.csv\", usecols=[\"passenger_count\", \"total_amount\", \"payment_type\"])"
   ]
  },
  {
   "cell_type": "code",
   "execution_count": 5,
   "id": "08686364-d50a-42a1-94ea-670f38ee72b6",
   "metadata": {},
   "outputs": [],
   "source": [
    "rides_pandemic = pd.read_csv(\"/Users/jakub/data/nyc_taxi_2020-07.csv\", usecols=[\"passenger_count\", \"total_amount\", \"payment_type\"])"
   ]
  },
  {
   "cell_type": "code",
   "execution_count": 6,
   "id": "0b802f0b-045d-44f7-b6c9-a5d92ed2cc00",
   "metadata": {},
   "outputs": [],
   "source": [
    "rides_july[\"year\"] = 2019"
   ]
  },
  {
   "cell_type": "code",
   "execution_count": 7,
   "id": "f2eff57d-d7b6-4cee-baec-e8894bd1ca9a",
   "metadata": {},
   "outputs": [],
   "source": [
    "rides_pandemic[\"year\"] = 2020"
   ]
  },
  {
   "cell_type": "code",
   "execution_count": 13,
   "id": "be7be0d7-1fa3-46f4-9169-a8b38e0759cc",
   "metadata": {},
   "outputs": [
    {
     "data": {
      "text/plain": [
       "6310419"
      ]
     },
     "execution_count": 13,
     "metadata": {},
     "output_type": "execute_result"
    }
   ],
   "source": [
    "len(rides_july)"
   ]
  },
  {
   "cell_type": "code",
   "execution_count": 14,
   "id": "1d8f0c1b-222c-46ca-8c01-47d716aa832d",
   "metadata": {},
   "outputs": [
    {
     "data": {
      "text/plain": [
       "800412"
      ]
     },
     "execution_count": 14,
     "metadata": {},
     "output_type": "execute_result"
    }
   ],
   "source": [
    "len(rides_pandemic)"
   ]
  },
  {
   "cell_type": "code",
   "execution_count": 16,
   "id": "f03ca914-44b7-4258-b7c7-92132f8241f5",
   "metadata": {},
   "outputs": [
    {
     "data": {
      "text/plain": [
       "123761823.33000001"
      ]
     },
     "execution_count": 16,
     "metadata": {},
     "output_type": "execute_result"
    }
   ],
   "source": [
    "rides_july[\"total_amount\"].sum()"
   ]
  },
  {
   "cell_type": "code",
   "execution_count": 17,
   "id": "27843842-2a13-47b8-8a72-9624848a88b3",
   "metadata": {},
   "outputs": [
    {
     "data": {
      "text/plain": [
       "14912844.090000005"
      ]
     },
     "execution_count": 17,
     "metadata": {},
     "output_type": "execute_result"
    }
   ],
   "source": [
    "rides_pandemic[\"total_amount\"].sum()"
   ]
  },
  {
   "cell_type": "code",
   "execution_count": 18,
   "id": "4b49cd94-f48d-4b7b-979c-e92c6ea0a524",
   "metadata": {},
   "outputs": [
    {
     "data": {
      "text/plain": [
       "108848979.24000001"
      ]
     },
     "execution_count": 18,
     "metadata": {},
     "output_type": "execute_result"
    }
   ],
   "source": [
    "rides_july[\"total_amount\"].sum() - rides_pandemic[\"total_amount\"].sum()"
   ]
  },
  {
   "cell_type": "code",
   "execution_count": 27,
   "id": "7e35c9c6-f2ea-4fe0-929e-41adc0c9c8d2",
   "metadata": {},
   "outputs": [
    {
     "data": {
      "text/plain": [
       "0.44399961162994006"
      ]
     },
     "execution_count": 27,
     "metadata": {},
     "output_type": "execute_result"
    }
   ],
   "source": [
    "rides_july.loc[rides_july[\"passenger_count\"] == 1, \"passenger_count\"].sum() / rides_july[\"passenger_count\"].sum()"
   ]
  },
  {
   "cell_type": "code",
   "execution_count": 28,
   "id": "c3ad2fe1-9815-4913-852c-38b7958c4173",
   "metadata": {},
   "outputs": [
    {
     "data": {
      "text/plain": [
       "0.5567338146479649"
      ]
     },
     "execution_count": 28,
     "metadata": {},
     "output_type": "execute_result"
    }
   ],
   "source": [
    "rides_pandemic.loc[rides_pandemic[\"passenger_count\"] == 1, \"passenger_count\"].sum() / rides_pandemic[\"passenger_count\"].sum()"
   ]
  },
  {
   "cell_type": "code",
   "execution_count": 29,
   "id": "612089c1-882d-430f-9120-1a46836b2bf4",
   "metadata": {},
   "outputs": [
    {
     "data": {
      "text/plain": [
       "0.4397427614749455"
      ]
     },
     "execution_count": 29,
     "metadata": {},
     "output_type": "execute_result"
    }
   ],
   "source": [
    "rides_july.loc[rides_july[\"payment_type\"] == 2, \"payment_type\"].sum() / rides_july[\"payment_type\"].sum()"
   ]
  },
  {
   "cell_type": "code",
   "execution_count": 30,
   "id": "40638b60-9ab4-4ccc-8126-b7078c9a9aaa",
   "metadata": {},
   "outputs": [
    {
     "data": {
      "text/plain": [
       "0.4740169130649216"
      ]
     },
     "execution_count": 30,
     "metadata": {},
     "output_type": "execute_result"
    }
   ],
   "source": [
    "rides_pandemic.loc[rides_pandemic[\"payment_type\"] == 2, \"payment_type\"].sum() / rides_pandemic[\"payment_type\"].sum()"
   ]
  },
  {
   "cell_type": "code",
   "execution_count": 31,
   "id": "d4a3f799-cdf6-428f-a5cf-080d8cf71efb",
   "metadata": {},
   "outputs": [],
   "source": [
    "# same exercise but combine DFs together"
   ]
  },
  {
   "cell_type": "code",
   "execution_count": 38,
   "id": "25859fa0-8581-426c-bfb2-87d127d873e9",
   "metadata": {},
   "outputs": [],
   "source": [
    "df = pd.concat([rides_july, rides_pandemic]).reset_index(drop=True)"
   ]
  },
  {
   "cell_type": "code",
   "execution_count": 40,
   "id": "f6a1a6d8-3603-4b79-b0d8-05637f24e7e1",
   "metadata": {},
   "outputs": [
    {
     "data": {
      "text/plain": [
       "6310419"
      ]
     },
     "execution_count": 40,
     "metadata": {},
     "output_type": "execute_result"
    }
   ],
   "source": [
    "df.loc[df[\"year\"] == 2019, \"total_amount\"].count()"
   ]
  },
  {
   "cell_type": "code",
   "execution_count": 41,
   "id": "e70436fb-b987-4b84-b0de-52ef461f8c0b",
   "metadata": {},
   "outputs": [
    {
     "data": {
      "text/plain": [
       "800412"
      ]
     },
     "execution_count": 41,
     "metadata": {},
     "output_type": "execute_result"
    }
   ],
   "source": [
    "df.loc[df[\"year\"] == 2020, \"total_amount\"].count()"
   ]
  },
  {
   "cell_type": "code",
   "execution_count": 42,
   "id": "fb1e1e9c-b107-4ca4-a05f-f83aff8ad26c",
   "metadata": {},
   "outputs": [
    {
     "data": {
      "text/plain": [
       "5510007"
      ]
     },
     "execution_count": 42,
     "metadata": {},
     "output_type": "execute_result"
    }
   ],
   "source": [
    "df.loc[df[\"year\"] == 2019, \"total_amount\"].count() - df.loc[df[\"year\"] == 2020, \"total_amount\"].count()"
   ]
  },
  {
   "cell_type": "code",
   "execution_count": 43,
   "id": "c2af0891-4ee3-41db-83d5-ff6885816031",
   "metadata": {},
   "outputs": [
    {
     "data": {
      "text/plain": [
       "123761823.33000001"
      ]
     },
     "execution_count": 43,
     "metadata": {},
     "output_type": "execute_result"
    }
   ],
   "source": [
    "df.loc[df[\"year\"] == 2019, \"total_amount\"].sum()"
   ]
  },
  {
   "cell_type": "code",
   "execution_count": 44,
   "id": "1afe6b74-91db-4ea6-9c9c-4f1b34edd51e",
   "metadata": {},
   "outputs": [
    {
     "data": {
      "text/plain": [
       "14912844.090000005"
      ]
     },
     "execution_count": 44,
     "metadata": {},
     "output_type": "execute_result"
    }
   ],
   "source": [
    "df.loc[df[\"year\"] == 2020, \"total_amount\"].sum()"
   ]
  },
  {
   "cell_type": "code",
   "execution_count": 45,
   "id": "fad52da3-11ad-40d0-bffe-e92b5ff93dbc",
   "metadata": {},
   "outputs": [
    {
     "data": {
      "text/plain": [
       "108848979.24000001"
      ]
     },
     "execution_count": 45,
     "metadata": {},
     "output_type": "execute_result"
    }
   ],
   "source": [
    "df.loc[df[\"year\"] == 2019, \"total_amount\"].sum() - df.loc[df[\"year\"] == 2020, \"total_amount\"].sum()"
   ]
  },
  {
   "cell_type": "code",
   "execution_count": 54,
   "id": "ffaa673d-805b-432b-a90e-23f0ddb6a67a",
   "metadata": {},
   "outputs": [
    {
     "data": {
      "text/plain": [
       "0.2833900000955953"
      ]
     },
     "execution_count": 54,
     "metadata": {},
     "output_type": "execute_result"
    }
   ],
   "source": [
    "df.loc[(df[\"passenger_count\"] > 1) & (df[\"year\"] == 2019), \"passenger_count\"].count() / df.loc[df[\"year\"] == 2019, \"passenger_count\"].count()"
   ]
  },
  {
   "cell_type": "code",
   "execution_count": 55,
   "id": "0f3166c2-212c-4116-82e4-2baf66ef3725",
   "metadata": {},
   "outputs": [
    {
     "data": {
      "text/plain": [
       "0.2061513222563435"
      ]
     },
     "execution_count": 55,
     "metadata": {},
     "output_type": "execute_result"
    }
   ],
   "source": [
    "df.loc[(df[\"passenger_count\"] > 1) & (df[\"year\"] == 2020), \"passenger_count\"].count() / df.loc[df[\"year\"] == 2020, \"passenger_count\"].count()"
   ]
  },
  {
   "cell_type": "code",
   "execution_count": 61,
   "id": "cb21027c-ef7c-4fdc-a4a7-a77ad1e43261",
   "metadata": {},
   "outputs": [
    {
     "data": {
      "text/plain": [
       "0.2870595845428793"
      ]
     },
     "execution_count": 61,
     "metadata": {},
     "output_type": "execute_result"
    }
   ],
   "source": [
    "df.loc[(df[\"year\"] == 2019) & (df[\"payment_type\"] == 2), \"payment_type\"].count() / df.loc[df[\"year\"] == 2019, \"payment_type\"].count()"
   ]
  },
  {
   "cell_type": "code",
   "execution_count": 62,
   "id": "96c3b45f-43b6-4f1c-9070-6d52745fb480",
   "metadata": {},
   "outputs": [
    {
     "data": {
      "text/plain": [
       "0.320558865998251"
      ]
     },
     "execution_count": 62,
     "metadata": {},
     "output_type": "execute_result"
    }
   ],
   "source": [
    "df.loc[(df[\"year\"] == 2020) & (df[\"payment_type\"] == 2), \"payment_type\"].count() / df.loc[df[\"year\"] == 2020, \"payment_type\"].count()"
   ]
  },
  {
   "cell_type": "code",
   "execution_count": null,
   "id": "e983a31e-0d4f-49c3-8186-1329b4ef78fe",
   "metadata": {},
   "outputs": [],
   "source": []
  }
 ],
 "metadata": {
  "kernelspec": {
   "display_name": "Python 3 (ipykernel)",
   "language": "python",
   "name": "python3"
  },
  "language_info": {
   "codemirror_mode": {
    "name": "ipython",
    "version": 3
   },
   "file_extension": ".py",
   "mimetype": "text/x-python",
   "name": "python",
   "nbconvert_exporter": "python",
   "pygments_lexer": "ipython3",
   "version": "3.12.8"
  }
 },
 "nbformat": 4,
 "nbformat_minor": 5
}
