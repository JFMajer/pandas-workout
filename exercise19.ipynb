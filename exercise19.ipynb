{
 "cells": [
  {
   "cell_type": "code",
   "execution_count": 74,
   "id": "8b274755-6dc4-4157-8566-fc92724153a3",
   "metadata": {},
   "outputs": [],
   "source": [
    "import pandas as pd\n",
    "import numpy as np\n",
    "import requests\n",
    "from io import StringIO"
   ]
  },
  {
   "cell_type": "code",
   "execution_count": 75,
   "id": "73f81a6c-1ed5-48a9-a23f-8e2cdbd6b8c0",
   "metadata": {},
   "outputs": [],
   "source": [
    "column_names = [\"date\", \"price\"]"
   ]
  },
  {
   "cell_type": "code",
   "execution_count": 76,
   "id": "834ec7ce-39e6-457c-b638-6c8b20983879",
   "metadata": {},
   "outputs": [],
   "source": [
    "r = requests.get('https://api.blockchain.info/charts/market-price?format=csv')"
   ]
  },
  {
   "cell_type": "code",
   "execution_count": 77,
   "id": "24042b82-f359-4946-81f0-30164fab0359",
   "metadata": {},
   "outputs": [],
   "source": [
    "s = StringIO(r.content.decode())"
   ]
  },
  {
   "cell_type": "code",
   "execution_count": 78,
   "id": "69b34a87-992a-4eba-a441-ffddc8fd592c",
   "metadata": {},
   "outputs": [],
   "source": [
    "df = pd.read_csv(s, names=column_names, dtype={'price': pd.Float32Dtype()})"
   ]
  },
  {
   "cell_type": "code",
   "execution_count": 79,
   "id": "9395e145-581f-402f-82d0-59e03321d4cd",
   "metadata": {},
   "outputs": [],
   "source": [
    "df['date'] = pd.to_datetime(df['date'])"
   ]
  },
  {
   "cell_type": "code",
   "execution_count": 80,
   "id": "71840850-689d-4731-865a-29a6472147d0",
   "metadata": {},
   "outputs": [
    {
     "data": {
      "text/plain": [
       "366"
      ]
     },
     "execution_count": 80,
     "metadata": {},
     "output_type": "execute_result"
    }
   ],
   "source": [
    "len(df)"
   ]
  },
  {
   "cell_type": "code",
   "execution_count": 81,
   "id": "a42ff2e1-2574-4a2e-8028-a92cd811f9fa",
   "metadata": {},
   "outputs": [
    {
     "data": {
      "text/plain": [
       "date     2025-01-06 00:00:00\n",
       "price           98319.203125\n",
       "Name: 365, dtype: object"
      ]
     },
     "execution_count": 81,
     "metadata": {},
     "output_type": "execute_result"
    }
   ],
   "source": [
    "df.iloc[365]"
   ]
  },
  {
   "cell_type": "code",
   "execution_count": 82,
   "id": "24a715b2-e741-483d-acc9-91a3858f2109",
   "metadata": {},
   "outputs": [
    {
     "data": {
      "text/plain": [
       "16"
      ]
     },
     "execution_count": 82,
     "metadata": {},
     "output_type": "execute_result"
    }
   ],
   "source": [
    "df[\"price\"].idxmin()"
   ]
  },
  {
   "cell_type": "code",
   "execution_count": 83,
   "id": "78a9276b-b095-42a6-9ab9-1e49b8b64bf8",
   "metadata": {},
   "outputs": [
    {
     "data": {
      "text/plain": [
       "date     2024-02-12 00:00:00\n",
       "price           48301.949219\n",
       "Name: 36, dtype: object"
      ]
     },
     "execution_count": 83,
     "metadata": {},
     "output_type": "execute_result"
    }
   ],
   "source": [
    "df.iloc[36]"
   ]
  },
  {
   "cell_type": "code",
   "execution_count": 84,
   "id": "a5e95c16-456c-4e85-98d5-b8d9387534a6",
   "metadata": {},
   "outputs": [
    {
     "data": {
      "text/plain": [
       "346"
      ]
     },
     "execution_count": 84,
     "metadata": {},
     "output_type": "execute_result"
    }
   ],
   "source": [
    "df[\"price\"].idxmax()"
   ]
  },
  {
   "cell_type": "code",
   "execution_count": 85,
   "id": "e94d318e-6e8a-4265-af5c-40c6ed1fb1fa",
   "metadata": {},
   "outputs": [
    {
     "data": {
      "text/plain": [
       "date     2024-12-18 00:00:00\n",
       "price          106156.007812\n",
       "Name: 346, dtype: object"
      ]
     },
     "execution_count": 85,
     "metadata": {},
     "output_type": "execute_result"
    }
   ],
   "source": [
    "df.iloc[346]"
   ]
  },
  {
   "cell_type": "code",
   "execution_count": null,
   "id": "8d0192cc-0f9d-46a2-850a-1a59e0e91e0b",
   "metadata": {},
   "outputs": [],
   "source": []
  }
 ],
 "metadata": {
  "kernelspec": {
   "display_name": "Python 3 (ipykernel)",
   "language": "python",
   "name": "python3"
  },
  "language_info": {
   "codemirror_mode": {
    "name": "ipython",
    "version": 3
   },
   "file_extension": ".py",
   "mimetype": "text/x-python",
   "name": "python",
   "nbconvert_exporter": "python",
   "pygments_lexer": "ipython3",
   "version": "3.12.8"
  }
 },
 "nbformat": 4,
 "nbformat_minor": 5
}
