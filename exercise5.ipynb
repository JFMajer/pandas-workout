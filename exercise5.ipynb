{
 "cells": [
  {
   "cell_type": "code",
   "execution_count": 1,
   "id": "7ec37573-c91c-48d9-9c50-47e16a9afa98",
   "metadata": {},
   "outputs": [],
   "source": [
    "import pandas as pd\n",
    "import numpy as np"
   ]
  },
  {
   "cell_type": "code",
   "execution_count": 30,
   "id": "fd486d19-238b-473e-9940-ad76c4c38d07",
   "metadata": {},
   "outputs": [
    {
     "data": {
      "text/plain": [
       "28"
      ]
     },
     "execution_count": 30,
     "metadata": {},
     "output_type": "execute_result"
    }
   ],
   "source": [
    "days = 'Sun Mon Tue Wed Thu Fri Sat'.split() * 4\n",
    "len(index)"
   ]
  },
  {
   "cell_type": "code",
   "execution_count": 36,
   "id": "27db9074-ac8d-4e3b-a285-0c9b85fa8975",
   "metadata": {},
   "outputs": [
    {
     "data": {
      "text/plain": [
       "array([22, 23, 25, 18, 20, 21, 25, 16, 24, 22, 19, 19, 19, 22, 18, 12, 17,\n",
       "       16, 17, 27, 11, 13, 17, 23, 19, 17, 23, 18], dtype=int8)"
      ]
     },
     "execution_count": 36,
     "metadata": {},
     "output_type": "execute_result"
    }
   ],
   "source": [
    "temperatures = np.random.normal(20, 5, 28)\n",
    "temperatures = temperatures.round().astype(np.int8)\n",
    "temperatures"
   ]
  },
  {
   "cell_type": "code",
   "execution_count": 32,
   "id": "98157af8-8c44-485a-a84f-99842f01a066",
   "metadata": {},
   "outputs": [],
   "source": [
    "ser1 = pd.Series(data=temperatures, index=days)"
   ]
  },
  {
   "cell_type": "code",
   "execution_count": 27,
   "id": "d44f2530-d666-44bc-a97b-aa5afd29db31",
   "metadata": {},
   "outputs": [
    {
     "data": {
      "text/plain": [
       "count    28.000000\n",
       "mean     19.178571\n",
       "std       4.981845\n",
       "min       8.000000\n",
       "25%      15.750000\n",
       "50%      19.000000\n",
       "75%      22.000000\n",
       "max      29.000000\n",
       "dtype: float64"
      ]
     },
     "execution_count": 27,
     "metadata": {},
     "output_type": "execute_result"
    }
   ],
   "source": [
    "ser1.describe()"
   ]
  },
  {
   "cell_type": "code",
   "execution_count": 33,
   "id": "9c97a9c7-99a6-44ac-b846-0107334af51d",
   "metadata": {},
   "outputs": [
    {
     "data": {
      "text/plain": [
       "Sun    26\n",
       "Mon    22\n",
       "Tue    20\n",
       "Wed    17\n",
       "Thu    25\n",
       "Fri    19\n",
       "Sat    18\n",
       "Sun    11\n",
       "Mon    21\n",
       "Tue    27\n",
       "Wed    19\n",
       "Thu    16\n",
       "Fri    15\n",
       "Sat    17\n",
       "Sun    24\n",
       "Mon    17\n",
       "Tue    20\n",
       "Wed    19\n",
       "Thu    18\n",
       "Fri    29\n",
       "Sat    20\n",
       "Sun    28\n",
       "Mon    18\n",
       "Tue    32\n",
       "Wed    14\n",
       "Thu    26\n",
       "Fri    12\n",
       "Sat    17\n",
       "dtype: int32"
      ]
     },
     "execution_count": 33,
     "metadata": {},
     "output_type": "execute_result"
    }
   ],
   "source": [
    "ser1"
   ]
  },
  {
   "cell_type": "code",
   "execution_count": 35,
   "id": "82f6a2ad-8e16-481a-917c-303a0221e692",
   "metadata": {},
   "outputs": [
    {
     "data": {
      "text/plain": [
       "19.5"
      ]
     },
     "execution_count": 35,
     "metadata": {},
     "output_type": "execute_result"
    }
   ],
   "source": [
    "ser1.loc['Mon'].mean()"
   ]
  },
  {
   "cell_type": "code",
   "execution_count": 40,
   "id": "a6ce297c-4b1d-4e23-a2bd-bf9ff4066393",
   "metadata": {},
   "outputs": [
    {
     "data": {
      "text/plain": [
       "Sat    18\n",
       "Sat    17\n",
       "Sat    20\n",
       "Sat    17\n",
       "Sun    26\n",
       "Sun    11\n",
       "Sun    24\n",
       "Sun    28\n",
       "dtype: int32"
      ]
     },
     "execution_count": 40,
     "metadata": {},
     "output_type": "execute_result"
    }
   ],
   "source": [
    "ser1.loc[['Sat', 'Sun']]"
   ]
  },
  {
   "cell_type": "code",
   "execution_count": 41,
   "id": "6347b28d-dc5f-414d-92c9-54a2d5bd3e96",
   "metadata": {},
   "outputs": [
    {
     "data": {
      "text/plain": [
       "20.125"
      ]
     },
     "execution_count": 41,
     "metadata": {},
     "output_type": "execute_result"
    }
   ],
   "source": [
    "ser1.loc[['Sat', 'Sun']].mean()"
   ]
  },
  {
   "cell_type": "code",
   "execution_count": 44,
   "id": "22947c48-d7ff-4076-8bcd-0493f9c04a1f",
   "metadata": {},
   "outputs": [
    {
     "data": {
      "text/plain": [
       "count     8.000000\n",
       "mean     20.125000\n",
       "std       5.591767\n",
       "min      11.000000\n",
       "25%      17.000000\n",
       "50%      19.000000\n",
       "75%      24.500000\n",
       "max      28.000000\n",
       "dtype: float64"
      ]
     },
     "execution_count": 44,
     "metadata": {},
     "output_type": "execute_result"
    }
   ],
   "source": [
    "ser1.loc[['Sat', 'Sun']].describe()"
   ]
  },
  {
   "cell_type": "code",
   "execution_count": null,
   "id": "2b73d6c7-c64a-4315-ac7e-607757b264b0",
   "metadata": {},
   "outputs": [],
   "source": []
  }
 ],
 "metadata": {
  "kernelspec": {
   "display_name": "Python 3 (ipykernel)",
   "language": "python",
   "name": "python3"
  },
  "language_info": {
   "codemirror_mode": {
    "name": "ipython",
    "version": 3
   },
   "file_extension": ".py",
   "mimetype": "text/x-python",
   "name": "python",
   "nbconvert_exporter": "python",
   "pygments_lexer": "ipython3",
   "version": "3.12.8"
  }
 },
 "nbformat": 4,
 "nbformat_minor": 5
}
