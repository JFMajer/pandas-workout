{
 "cells": [
  {
   "cell_type": "code",
   "execution_count": 307,
   "id": "5db2ac56-f110-4b96-aa43-e566626bd32b",
   "metadata": {},
   "outputs": [],
   "source": [
    "import pandas as pd\n",
    "import numpy as np"
   ]
  },
  {
   "cell_type": "code",
   "execution_count": 308,
   "id": "a6e2e9d0-85cf-48bc-a753-f558aa35fc29",
   "metadata": {},
   "outputs": [],
   "source": [
    "df = pd.read_csv(\"/home/kuba/Desktop/pandas-workout/files/data/olympic_athlete_events.csv\", \n",
    "                 usecols=[\"Age\", \"Height\", \"Team\", \"Year\", \"Season\", \"City\", \"Sport\", \"Event\", \"Medal\"])"
   ]
  },
  {
   "cell_type": "code",
   "execution_count": 309,
   "id": "660921b4-e7d1-48db-8aba-fb0fcdac2a27",
   "metadata": {},
   "outputs": [],
   "source": [
    "df = df.set_index([\"Year\", \"Season\", \"Sport\", \"Event\"])"
   ]
  },
  {
   "cell_type": "code",
   "execution_count": 310,
   "id": "e011f46a-ea86-467a-b838-01c6c1e20d58",
   "metadata": {},
   "outputs": [],
   "source": [
    "df = df.sort_index()"
   ]
  },
  {
   "cell_type": "code",
   "execution_count": 311,
   "id": "b4950446-f4c9-4b5f-b2bc-c1888075596d",
   "metadata": {},
   "outputs": [],
   "source": [
    "gold_winners_df = df[df[\"Medal\"] == \"Gold\"]\n",
    "gold_winners_df = gold_winners_df.sort_index()"
   ]
  },
  {
   "cell_type": "code",
   "execution_count": 312,
   "id": "f6b97c50-84bb-4e17-95f8-e0facab094b8",
   "metadata": {},
   "outputs": [
    {
     "data": {
      "text/plain": [
       "np.float64(25.1371932032725)"
      ]
     },
     "execution_count": 312,
     "metadata": {},
     "output_type": "execute_result"
    }
   ],
   "source": [
    "gold_winners_df.loc[(slice(1936,2000), 'Summer'), 'Age'].mean()"
   ]
  },
  {
   "cell_type": "code",
   "execution_count": 313,
   "id": "4bdb9aa1-5fbb-4609-b43f-234373dcad5d",
   "metadata": {},
   "outputs": [],
   "source": [
    "gold_winners_df = df.loc[df[\"Medal\"] == \"Gold\", \"Medal\"]"
   ]
  },
  {
   "cell_type": "code",
   "execution_count": 314,
   "id": "c707e755-e6db-4d7f-9fd7-55ff64fdc254",
   "metadata": {},
   "outputs": [],
   "source": [
    "idx = pd.IndexSlice\n",
    "medals_in_archery_df = df.loc[idx[:, :, \"Archery\"]].groupby(\"Team\")[\"Medal\"].count()"
   ]
  },
  {
   "cell_type": "code",
   "execution_count": 315,
   "id": "4b33f06f-d70e-4faa-baf0-8f84c32431dc",
   "metadata": {},
   "outputs": [
    {
     "data": {
      "text/plain": [
       "'South Korea'"
      ]
     },
     "execution_count": 315,
     "metadata": {},
     "output_type": "execute_result"
    }
   ],
   "source": [
    "medals_in_archery_df.idxmax()"
   ]
  },
  {
   "cell_type": "code",
   "execution_count": 316,
   "id": "ce495395-fb03-47dd-a3a6-1f8f3ac88e56",
   "metadata": {},
   "outputs": [
    {
     "data": {
      "text/plain": [
       "Team\n",
       "South Korea    61\n",
       "Name: count, dtype: int64"
      ]
     },
     "execution_count": 316,
     "metadata": {},
     "output_type": "execute_result"
    }
   ],
   "source": [
    "df.dropna().loc[(slice(None), 'Summer', 'Archery'), 'Team'].value_counts().head(1)"
   ]
  },
  {
   "cell_type": "code",
   "execution_count": 323,
   "id": "286026ec-c5ab-471a-b999-fff037ba7f39",
   "metadata": {},
   "outputs": [
    {
     "data": {
      "text/plain": [
       "np.float64(165.04827586206898)"
      ]
     },
     "execution_count": 323,
     "metadata": {},
     "output_type": "execute_result"
    }
   ],
   "source": [
    "df.loc[(slice(1980,None),'Summer', slice(None), \"Table Tennis Women's Team\"), \"Height\"].mean()"
   ]
  },
  {
   "cell_type": "code",
   "execution_count": 318,
   "id": "5f5a4202-8f23-48ce-aa84-bf2bfa45e0db",
   "metadata": {},
   "outputs": [],
   "source": [
    "table_tennis_df = df.dropna().loc[(slice(1980,None), 'Summer',\"Table Tennis\")]"
   ]
  },
  {
   "cell_type": "code",
   "execution_count": 324,
   "id": "66bb4efe-e666-46c4-ad8b-ab6d2518900c",
   "metadata": {},
   "outputs": [
    {
     "data": {
      "text/plain": [
       "np.float64(178.59259259259258)"
      ]
     },
     "execution_count": 324,
     "metadata": {},
     "output_type": "execute_result"
    }
   ],
   "source": [
    "table_tennis_df.loc[(slice(1980,None), 'Summer', slice(None) ,\"Table Tennis Men's Team\"), \"Height\"].mean()"
   ]
  },
  {
   "cell_type": "code",
   "execution_count": 325,
   "id": "de437a83-3233-4abb-ad28-09a86b3ec6c6",
   "metadata": {},
   "outputs": [
    {
     "data": {
      "text/plain": [
       "np.float64(163.44444444444446)"
      ]
     },
     "execution_count": 325,
     "metadata": {},
     "output_type": "execute_result"
    }
   ],
   "source": [
    "table_tennis_df.loc[(slice(1980,None), 'Summer', slice(None) ,\"Table Tennis Women's Team\"), \"Height\"].mean()"
   ]
  },
  {
   "cell_type": "code",
   "execution_count": 321,
   "id": "1df5a94e-073b-4e4f-95ba-52b46b46e992",
   "metadata": {},
   "outputs": [],
   "source": [
    "tennis_df = df.loc[(slice(1980,2016), 'Summer', 'Tennis')]"
   ]
  },
  {
   "cell_type": "code",
   "execution_count": 322,
   "id": "d5919e87-7a57-4958-aeed-651f117c9f4c",
   "metadata": {},
   "outputs": [
    {
     "data": {
      "text/plain": [
       "208.0"
      ]
     },
     "execution_count": 322,
     "metadata": {},
     "output_type": "execute_result"
    }
   ],
   "source": [
    "tennis_df[\"Height\"].max()"
   ]
  },
  {
   "cell_type": "code",
   "execution_count": null,
   "id": "17383a9f-5b34-4781-85de-ee339738cfe3",
   "metadata": {},
   "outputs": [],
   "source": []
  }
 ],
 "metadata": {
  "kernelspec": {
   "display_name": "Python 3 (ipykernel)",
   "language": "python",
   "name": "python3"
  },
  "language_info": {
   "codemirror_mode": {
    "name": "ipython",
    "version": 3
   },
   "file_extension": ".py",
   "mimetype": "text/x-python",
   "name": "python",
   "nbconvert_exporter": "python",
   "pygments_lexer": "ipython3",
   "version": "3.12.8"
  }
 },
 "nbformat": 4,
 "nbformat_minor": 5
}
