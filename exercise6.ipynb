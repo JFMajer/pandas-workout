{
 "cells": [
  {
   "cell_type": "code",
   "execution_count": 1,
   "id": "5560106d-0f62-48f9-a2c8-69d889d6d249",
   "metadata": {},
   "outputs": [],
   "source": [
    "import pandas as pd\n",
    "import numpy as np"
   ]
  },
  {
   "cell_type": "code",
   "execution_count": 32,
   "id": "f8a06e49-8ad9-46b6-83e8-1b6cf1efcd8e",
   "metadata": {},
   "outputs": [],
   "source": [
    "passengers = pd.read_csv(\"taxi-passenger-count.csv\", names=[\"passengers amount\"]).squeeze()"
   ]
  },
  {
   "cell_type": "code",
   "execution_count": 33,
   "id": "14bbc459-20f4-42a5-8e71-545644804d40",
   "metadata": {},
   "outputs": [
    {
     "data": {
      "text/plain": [
       "count    9999.000000\n",
       "mean        1.659466\n",
       "std         1.333306\n",
       "min         0.000000\n",
       "25%         1.000000\n",
       "50%         1.000000\n",
       "75%         2.000000\n",
       "max         6.000000\n",
       "Name: passengers amount, dtype: float64"
      ]
     },
     "execution_count": 33,
     "metadata": {},
     "output_type": "execute_result"
    }
   ],
   "source": [
    "passengers.describe()"
   ]
  },
  {
   "cell_type": "code",
   "execution_count": 34,
   "id": "ef6fe691-d960-4c50-ade3-fc118ae725a5",
   "metadata": {},
   "outputs": [
    {
     "data": {
      "text/plain": [
       "pandas.core.series.Series"
      ]
     },
     "execution_count": 34,
     "metadata": {},
     "output_type": "execute_result"
    }
   ],
   "source": [
    "type(passengers)"
   ]
  },
  {
   "cell_type": "code",
   "execution_count": 35,
   "id": "466c415a-7648-4878-a1ed-84ecfeed4696",
   "metadata": {},
   "outputs": [
    {
     "data": {
      "text/plain": [
       "9994    1\n",
       "9995    1\n",
       "9996    1\n",
       "9997    6\n",
       "9998    1\n",
       "Name: passengers amount, dtype: int64"
      ]
     },
     "execution_count": 35,
     "metadata": {},
     "output_type": "execute_result"
    }
   ],
   "source": [
    "passengers.tail()"
   ]
  },
  {
   "cell_type": "code",
   "execution_count": 46,
   "id": "c50281eb-029d-45b6-85b8-cfb7f25e787b",
   "metadata": {},
   "outputs": [
    {
     "data": {
      "text/plain": [
       "passengers amount\n",
       "1    7207\n",
       "2    1313\n",
       "5     520\n",
       "3     406\n",
       "6     369\n",
       "4     182\n",
       "0       2\n",
       "Name: count, dtype: int64"
      ]
     },
     "execution_count": 46,
     "metadata": {},
     "output_type": "execute_result"
    }
   ],
   "source": [
    "passengers.value_counts()"
   ]
  },
  {
   "cell_type": "code",
   "execution_count": 44,
   "id": "75a2540e-f1ee-41f5-9605-e8c83ed7da20",
   "metadata": {},
   "outputs": [
    {
     "data": {
      "text/plain": [
       "passengers amount\n",
       "1    7207\n",
       "6     369\n",
       "Name: count, dtype: int64"
      ]
     },
     "execution_count": 44,
     "metadata": {},
     "output_type": "execute_result"
    }
   ],
   "source": [
    "passengers.value_counts().loc[[1,6]]"
   ]
  },
  {
   "cell_type": "code",
   "execution_count": 47,
   "id": "7fbb4437-15b0-4f58-baaf-674051ade378",
   "metadata": {},
   "outputs": [
    {
     "data": {
      "text/plain": [
       "passengers amount\n",
       "1    0.720772\n",
       "2    0.131313\n",
       "5    0.052005\n",
       "3    0.040604\n",
       "6    0.036904\n",
       "4    0.018202\n",
       "0    0.000200\n",
       "Name: proportion, dtype: float64"
      ]
     },
     "execution_count": 47,
     "metadata": {},
     "output_type": "execute_result"
    }
   ],
   "source": [
    "passengers.value_counts(normalize=True)"
   ]
  },
  {
   "cell_type": "code",
   "execution_count": 39,
   "id": "efc14031-beb3-403f-9c50-dc3ce1ab1498",
   "metadata": {},
   "outputs": [
    {
     "data": {
      "text/plain": [
       "7207"
      ]
     },
     "execution_count": 39,
     "metadata": {},
     "output_type": "execute_result"
    }
   ],
   "source": []
  },
  {
   "cell_type": "code",
   "execution_count": null,
   "id": "a8298b59-de55-4fe9-824b-c8ace6917ef9",
   "metadata": {},
   "outputs": [],
   "source": []
  }
 ],
 "metadata": {
  "kernelspec": {
   "display_name": "Python 3 (ipykernel)",
   "language": "python",
   "name": "python3"
  },
  "language_info": {
   "codemirror_mode": {
    "name": "ipython",
    "version": 3
   },
   "file_extension": ".py",
   "mimetype": "text/x-python",
   "name": "python",
   "nbconvert_exporter": "python",
   "pygments_lexer": "ipython3",
   "version": "3.12.8"
  }
 },
 "nbformat": 4,
 "nbformat_minor": 5
}
