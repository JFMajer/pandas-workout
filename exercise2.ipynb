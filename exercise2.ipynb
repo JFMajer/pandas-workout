{
 "cells": [
  {
   "cell_type": "code",
   "execution_count": 1,
   "id": "908b7181-655f-42af-a778-4ce8466e1c61",
   "metadata": {},
   "outputs": [],
   "source": [
    "import pandas as pd\n",
    "import numpy as np"
   ]
  },
  {
   "cell_type": "code",
   "execution_count": 2,
   "id": "e8651a26-b429-4f17-84cb-f2d44526d5e6",
   "metadata": {},
   "outputs": [],
   "source": [
    "months = \"September October November December January February March April May June\".split()"
   ]
  },
  {
   "cell_type": "code",
   "execution_count": 3,
   "id": "0e51bf0c-7b92-429d-a116-68d2ee8c05fe",
   "metadata": {},
   "outputs": [],
   "source": [
    "scores = np.random.randint(40, 60, size=10)"
   ]
  },
  {
   "cell_type": "code",
   "execution_count": 4,
   "id": "79c091a1-aad7-425d-97ae-e94141f30ca2",
   "metadata": {},
   "outputs": [],
   "source": [
    "ser1 = pd.Series(data=scores, index=months)"
   ]
  },
  {
   "cell_type": "code",
   "execution_count": 5,
   "id": "4b4d3885-b40c-47b5-bd41-c1fed9b565d4",
   "metadata": {},
   "outputs": [
    {
     "data": {
      "text/plain": [
       "September    40\n",
       "October      58\n",
       "November     47\n",
       "December     46\n",
       "January      41\n",
       "February     53\n",
       "March        43\n",
       "April        54\n",
       "May          40\n",
       "June         54\n",
       "dtype: int32"
      ]
     },
     "execution_count": 5,
     "metadata": {},
     "output_type": "execute_result"
    }
   ],
   "source": [
    "ser1"
   ]
  },
  {
   "cell_type": "code",
   "execution_count": 16,
   "id": "a6cf7733-c9e2-4123-a3d9-6270bd961bf0",
   "metadata": {},
   "outputs": [
    {
     "data": {
      "text/plain": [
       "47.6"
      ]
     },
     "execution_count": 16,
     "metadata": {},
     "output_type": "execute_result"
    }
   ],
   "source": [
    "ser1_mean = ser1.mean()\n",
    "ser1_mean"
   ]
  },
  {
   "cell_type": "code",
   "execution_count": 12,
   "id": "411b307c-c2ba-4275-953d-1a6d5f42dc6d",
   "metadata": {},
   "outputs": [
    {
     "data": {
      "text/plain": [
       "September    72.4\n",
       "October      90.4\n",
       "November     79.4\n",
       "December     78.4\n",
       "January      73.4\n",
       "February     85.4\n",
       "March        75.4\n",
       "April        86.4\n",
       "May          72.4\n",
       "June         86.4\n",
       "dtype: float64"
      ]
     },
     "execution_count": 12,
     "metadata": {},
     "output_type": "execute_result"
    }
   ],
   "source": [
    "ser1 + (80 - ser1_mean)"
   ]
  },
  {
   "cell_type": "code",
   "execution_count": 13,
   "id": "08f3acb2-2b7d-4007-a74b-8b80076b73d7",
   "metadata": {},
   "outputs": [
    {
     "data": {
      "text/plain": [
       "6.686636756330578"
      ]
     },
     "execution_count": 13,
     "metadata": {},
     "output_type": "execute_result"
    }
   ],
   "source": [
    "ser1.std()"
   ]
  },
  {
   "cell_type": "code",
   "execution_count": 14,
   "id": "412a1836-cc5c-4f21-b4cc-5d0a40690441",
   "metadata": {},
   "outputs": [],
   "source": [
    "ser1_std = ser1.std()"
   ]
  },
  {
   "cell_type": "code",
   "execution_count": 15,
   "id": "444fe370-d090-4bbe-be5b-06192f4c193d",
   "metadata": {},
   "outputs": [
    {
     "data": {
      "text/plain": [
       "46.5"
      ]
     },
     "execution_count": 15,
     "metadata": {},
     "output_type": "execute_result"
    }
   ],
   "source": [
    "ser1.median()"
   ]
  },
  {
   "cell_type": "code",
   "execution_count": null,
   "id": "7147c18c-c523-4ba4-80f4-c2e3c70341e2",
   "metadata": {},
   "outputs": [],
   "source": []
  }
 ],
 "metadata": {
  "kernelspec": {
   "display_name": "Python 3 (ipykernel)",
   "language": "python",
   "name": "python3"
  },
  "language_info": {
   "codemirror_mode": {
    "name": "ipython",
    "version": 3
   },
   "file_extension": ".py",
   "mimetype": "text/x-python",
   "name": "python",
   "nbconvert_exporter": "python",
   "pygments_lexer": "ipython3",
   "version": "3.12.8"
  }
 },
 "nbformat": 4,
 "nbformat_minor": 5
}
