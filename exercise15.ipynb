{
 "cells": [
  {
   "cell_type": "code",
   "execution_count": 75,
   "id": "2b8ede5f-a181-422f-b620-81d1d232ef3e",
   "metadata": {},
   "outputs": [],
   "source": [
    "import pandas as pd\n",
    "import numpy as np"
   ]
  },
  {
   "cell_type": "code",
   "execution_count": 76,
   "id": "d89d5c6c-f328-46e6-83db-a1b730aaff7b",
   "metadata": {},
   "outputs": [],
   "source": [
    "rides = pd.read_csv(\"files/data/nyc_taxi_2019-01.csv\", usecols=[\"passenger_count\", \"trip_distance\", \"total_amount\", \"payment_type\"])"
   ]
  },
  {
   "cell_type": "code",
   "execution_count": 77,
   "id": "a1ab0ce6-1aff-4686-a9e3-87af2a91b197",
   "metadata": {},
   "outputs": [
    {
     "data": {
      "text/html": [
       "<div>\n",
       "<style scoped>\n",
       "    .dataframe tbody tr th:only-of-type {\n",
       "        vertical-align: middle;\n",
       "    }\n",
       "\n",
       "    .dataframe tbody tr th {\n",
       "        vertical-align: top;\n",
       "    }\n",
       "\n",
       "    .dataframe thead th {\n",
       "        text-align: right;\n",
       "    }\n",
       "</style>\n",
       "<table border=\"1\" class=\"dataframe\">\n",
       "  <thead>\n",
       "    <tr style=\"text-align: right;\">\n",
       "      <th></th>\n",
       "      <th>passenger_count</th>\n",
       "      <th>trip_distance</th>\n",
       "      <th>payment_type</th>\n",
       "      <th>total_amount</th>\n",
       "    </tr>\n",
       "  </thead>\n",
       "  <tbody>\n",
       "    <tr>\n",
       "      <th>0</th>\n",
       "      <td>1</td>\n",
       "      <td>1.50</td>\n",
       "      <td>1</td>\n",
       "      <td>9.95</td>\n",
       "    </tr>\n",
       "    <tr>\n",
       "      <th>1</th>\n",
       "      <td>1</td>\n",
       "      <td>2.60</td>\n",
       "      <td>1</td>\n",
       "      <td>16.30</td>\n",
       "    </tr>\n",
       "    <tr>\n",
       "      <th>2</th>\n",
       "      <td>3</td>\n",
       "      <td>0.00</td>\n",
       "      <td>1</td>\n",
       "      <td>5.80</td>\n",
       "    </tr>\n",
       "    <tr>\n",
       "      <th>3</th>\n",
       "      <td>5</td>\n",
       "      <td>0.00</td>\n",
       "      <td>2</td>\n",
       "      <td>7.55</td>\n",
       "    </tr>\n",
       "    <tr>\n",
       "      <th>4</th>\n",
       "      <td>5</td>\n",
       "      <td>0.00</td>\n",
       "      <td>2</td>\n",
       "      <td>55.55</td>\n",
       "    </tr>\n",
       "    <tr>\n",
       "      <th>...</th>\n",
       "      <td>...</td>\n",
       "      <td>...</td>\n",
       "      <td>...</td>\n",
       "      <td>...</td>\n",
       "    </tr>\n",
       "    <tr>\n",
       "      <th>7667787</th>\n",
       "      <td>1</td>\n",
       "      <td>4.79</td>\n",
       "      <td>1</td>\n",
       "      <td>23.16</td>\n",
       "    </tr>\n",
       "    <tr>\n",
       "      <th>7667788</th>\n",
       "      <td>1</td>\n",
       "      <td>0.00</td>\n",
       "      <td>1</td>\n",
       "      <td>0.00</td>\n",
       "    </tr>\n",
       "    <tr>\n",
       "      <th>7667789</th>\n",
       "      <td>1</td>\n",
       "      <td>0.00</td>\n",
       "      <td>1</td>\n",
       "      <td>0.00</td>\n",
       "    </tr>\n",
       "    <tr>\n",
       "      <th>7667790</th>\n",
       "      <td>1</td>\n",
       "      <td>0.00</td>\n",
       "      <td>1</td>\n",
       "      <td>0.00</td>\n",
       "    </tr>\n",
       "    <tr>\n",
       "      <th>7667791</th>\n",
       "      <td>1</td>\n",
       "      <td>0.00</td>\n",
       "      <td>1</td>\n",
       "      <td>0.00</td>\n",
       "    </tr>\n",
       "  </tbody>\n",
       "</table>\n",
       "<p>7667792 rows × 4 columns</p>\n",
       "</div>"
      ],
      "text/plain": [
       "         passenger_count  trip_distance  payment_type  total_amount\n",
       "0                      1           1.50             1          9.95\n",
       "1                      1           2.60             1         16.30\n",
       "2                      3           0.00             1          5.80\n",
       "3                      5           0.00             2          7.55\n",
       "4                      5           0.00             2         55.55\n",
       "...                  ...            ...           ...           ...\n",
       "7667787                1           4.79             1         23.16\n",
       "7667788                1           0.00             1          0.00\n",
       "7667789                1           0.00             1          0.00\n",
       "7667790                1           0.00             1          0.00\n",
       "7667791                1           0.00             1          0.00\n",
       "\n",
       "[7667792 rows x 4 columns]"
      ]
     },
     "execution_count": 77,
     "metadata": {},
     "output_type": "execute_result"
    }
   ],
   "source": [
    "rides"
   ]
  },
  {
   "cell_type": "code",
   "execution_count": 78,
   "id": "8abed87a-70d5-49f7-a384-ff540cc621c0",
   "metadata": {},
   "outputs": [
    {
     "data": {
      "text/plain": [
       "np.int64(9)"
      ]
     },
     "execution_count": 78,
     "metadata": {},
     "output_type": "execute_result"
    }
   ],
   "source": [
    "rides.loc[rides[\"passenger_count\"] > 8, \"passenger_count\"].count()"
   ]
  },
  {
   "cell_type": "code",
   "execution_count": 79,
   "id": "615db628-78d1-4c6b-a0a2-5b3843930db2",
   "metadata": {},
   "outputs": [
    {
     "data": {
      "text/plain": [
       "np.int64(117381)"
      ]
     },
     "execution_count": 79,
     "metadata": {},
     "output_type": "execute_result"
    }
   ],
   "source": [
    "rides.loc[rides[\"passenger_count\"] == 0, \"passenger_count\"].count()"
   ]
  },
  {
   "cell_type": "code",
   "execution_count": 80,
   "id": "e8183937-f59e-40c0-8264-6743ec2ca887",
   "metadata": {},
   "outputs": [],
   "source": [
    "paid_by_cash = rides.loc[rides[\"payment_type\"] == 2]"
   ]
  },
  {
   "cell_type": "code",
   "execution_count": 81,
   "id": "d0df709d-fe72-4a5b-8939-734dff1e2251",
   "metadata": {},
   "outputs": [
    {
     "data": {
      "text/plain": [
       "np.int64(5)"
      ]
     },
     "execution_count": 81,
     "metadata": {},
     "output_type": "execute_result"
    }
   ],
   "source": [
    "paid_by_cash.loc[paid_by_cash[\"total_amount\"] > 1000, \"total_amount\"].count()"
   ]
  },
  {
   "cell_type": "code",
   "execution_count": 82,
   "id": "32f4dab5-863b-421d-a220-8acb0d011e9b",
   "metadata": {},
   "outputs": [
    {
     "data": {
      "text/plain": [
       "5"
      ]
     },
     "execution_count": 82,
     "metadata": {},
     "output_type": "execute_result"
    }
   ],
   "source": [
    "rides.loc[(rides[\"payment_type\"] == 2) & (rides[\"total_amount\"] > 1000)].shape[0]"
   ]
  },
  {
   "cell_type": "code",
   "execution_count": 83,
   "id": "9acc1148-c89d-47aa-be00-c9075fdebc8b",
   "metadata": {},
   "outputs": [
    {
     "data": {
      "text/plain": [
       "np.int64(7131)"
      ]
     },
     "execution_count": 83,
     "metadata": {},
     "output_type": "execute_result"
    }
   ],
   "source": [
    "rides.loc[rides[\"total_amount\"] < 0, \"total_amount\"].count()"
   ]
  },
  {
   "cell_type": "code",
   "execution_count": 84,
   "id": "67e5caba-775f-45ee-b404-ebcab7dd1a98",
   "metadata": {},
   "outputs": [],
   "source": [
    "mean_distance = rides[\"trip_distance\"].mean()"
   ]
  },
  {
   "cell_type": "code",
   "execution_count": 85,
   "id": "fb3849a0-eb96-4efc-b956-45ece411853d",
   "metadata": {},
   "outputs": [],
   "source": [
    "avg_amount = rides[\"total_amount\"].mean()"
   ]
  },
  {
   "cell_type": "code",
   "execution_count": 86,
   "id": "74b38819-0404-43cc-8477-60694b78eeda",
   "metadata": {},
   "outputs": [
    {
     "data": {
      "text/plain": [
       "411255"
      ]
     },
     "execution_count": 86,
     "metadata": {},
     "output_type": "execute_result"
    }
   ],
   "source": [
    "rides.query(f'trip_distance < {mean_distance} and total_amount > {avg_amount}').shape[0]"
   ]
  }
 ],
 "metadata": {
  "kernelspec": {
   "display_name": "Python 3 (ipykernel)",
   "language": "python",
   "name": "python3"
  },
  "language_info": {
   "codemirror_mode": {
    "name": "ipython",
    "version": 3
   },
   "file_extension": ".py",
   "mimetype": "text/x-python",
   "name": "python",
   "nbconvert_exporter": "python",
   "pygments_lexer": "ipython3",
   "version": "3.11.11"
  }
 },
 "nbformat": 4,
 "nbformat_minor": 5
}
