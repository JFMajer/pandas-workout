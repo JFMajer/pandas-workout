{
 "cells": [
  {
   "cell_type": "code",
   "execution_count": 1,
   "id": "fcedb6a4-4c2f-4ee2-88e6-1b37e3d611fe",
   "metadata": {},
   "outputs": [],
   "source": [
    "import pandas as pd\n",
    "import numpy as np"
   ]
  },
  {
   "cell_type": "code",
   "execution_count": 2,
   "id": "ee863d61-55d6-4d85-a829-b3790f7d92e7",
   "metadata": {},
   "outputs": [],
   "source": [
    "df = pd.read_json(\"/Users/jakub/data/cities.json\")"
   ]
  },
  {
   "cell_type": "code",
   "execution_count": 15,
   "id": "42f1b793-12e8-45ef-9a9a-bafbcdf3f8f5",
   "metadata": {},
   "outputs": [],
   "source": [
    "without_50 = df.drop(df.index[:50])"
   ]
  },
  {
   "cell_type": "code",
   "execution_count": 17,
   "id": "10dbd80c-f79e-4a1c-b620-5464c80a8436",
   "metadata": {},
   "outputs": [
    {
     "data": {
      "text/html": [
       "<div>\n",
       "<style scoped>\n",
       "    .dataframe tbody tr th:only-of-type {\n",
       "        vertical-align: middle;\n",
       "    }\n",
       "\n",
       "    .dataframe tbody tr th {\n",
       "        vertical-align: top;\n",
       "    }\n",
       "\n",
       "    .dataframe thead th {\n",
       "        text-align: right;\n",
       "    }\n",
       "</style>\n",
       "<table border=\"1\" class=\"dataframe\">\n",
       "  <thead>\n",
       "    <tr style=\"text-align: right;\">\n",
       "      <th></th>\n",
       "      <th>latitude</th>\n",
       "      <th>longitude</th>\n",
       "      <th>population</th>\n",
       "      <th>rank</th>\n",
       "    </tr>\n",
       "  </thead>\n",
       "  <tbody>\n",
       "    <tr>\n",
       "      <th>count</th>\n",
       "      <td>950.000000</td>\n",
       "      <td>950.000000</td>\n",
       "      <td>950.000000</td>\n",
       "      <td>950.000000</td>\n",
       "    </tr>\n",
       "    <tr>\n",
       "      <th>mean</th>\n",
       "      <td>37.364535</td>\n",
       "      <td>-96.440648</td>\n",
       "      <td>87027.387368</td>\n",
       "      <td>525.500000</td>\n",
       "    </tr>\n",
       "    <tr>\n",
       "      <th>std</th>\n",
       "      <td>5.317737</td>\n",
       "      <td>17.090096</td>\n",
       "      <td>58652.956490</td>\n",
       "      <td>274.385677</td>\n",
       "    </tr>\n",
       "    <tr>\n",
       "      <th>min</th>\n",
       "      <td>21.306944</td>\n",
       "      <td>-157.858333</td>\n",
       "      <td>36877.000000</td>\n",
       "      <td>51.000000</td>\n",
       "    </tr>\n",
       "    <tr>\n",
       "      <th>25%</th>\n",
       "      <td>33.756983</td>\n",
       "      <td>-116.973430</td>\n",
       "      <td>48989.500000</td>\n",
       "      <td>288.250000</td>\n",
       "    </tr>\n",
       "    <tr>\n",
       "      <th>50%</th>\n",
       "      <td>37.809510</td>\n",
       "      <td>-93.042587</td>\n",
       "      <td>65796.000000</td>\n",
       "      <td>525.500000</td>\n",
       "    </tr>\n",
       "    <tr>\n",
       "      <th>75%</th>\n",
       "      <td>41.657728</td>\n",
       "      <td>-82.115760</td>\n",
       "      <td>100842.000000</td>\n",
       "      <td>762.750000</td>\n",
       "    </tr>\n",
       "    <tr>\n",
       "      <th>max</th>\n",
       "      <td>61.218056</td>\n",
       "      <td>-70.255326</td>\n",
       "      <td>378715.000000</td>\n",
       "      <td>1000.000000</td>\n",
       "    </tr>\n",
       "  </tbody>\n",
       "</table>\n",
       "</div>"
      ],
      "text/plain": [
       "         latitude   longitude     population         rank\n",
       "count  950.000000  950.000000     950.000000   950.000000\n",
       "mean    37.364535  -96.440648   87027.387368   525.500000\n",
       "std      5.317737   17.090096   58652.956490   274.385677\n",
       "min     21.306944 -157.858333   36877.000000    51.000000\n",
       "25%     33.756983 -116.973430   48989.500000   288.250000\n",
       "50%     37.809510  -93.042587   65796.000000   525.500000\n",
       "75%     41.657728  -82.115760  100842.000000   762.750000\n",
       "max     61.218056  -70.255326  378715.000000  1000.000000"
      ]
     },
     "execution_count": 17,
     "metadata": {},
     "output_type": "execute_result"
    }
   ],
   "source": [
    "without_50.describe()"
   ]
  },
  {
   "cell_type": "code",
   "execution_count": 9,
   "id": "a672220e-b898-4909-992f-0cbfd0e2e86e",
   "metadata": {},
   "outputs": [
    {
     "data": {
      "text/plain": [
       "city          Anchorage\n",
       "population       300950\n",
       "rank                 63\n",
       "Name: 62, dtype: object"
      ]
     },
     "execution_count": 9,
     "metadata": {},
     "output_type": "execute_result"
    }
   ],
   "source": [
    "df.loc[df[\"latitude\"].idxmax(), [\"city\", \"population\", \"rank\"]]"
   ]
  },
  {
   "cell_type": "code",
   "execution_count": 38,
   "id": "5717e3d3-af2c-4146-b954-d6a47c7eafc0",
   "metadata": {},
   "outputs": [],
   "source": [
    "state_counts = df.groupby([\"state\"])['city'].count().sort_values(ascending=False)"
   ]
  },
  {
   "cell_type": "code",
   "execution_count": 39,
   "id": "0e16fa5b-c1e0-4d0a-82f1-14917765eaef",
   "metadata": {},
   "outputs": [
    {
     "data": {
      "text/plain": [
       "state\n",
       "California    212\n",
       "Name: city, dtype: int64"
      ]
     },
     "execution_count": 39,
     "metadata": {},
     "output_type": "execute_result"
    }
   ],
   "source": [
    "state_counts.head(1)"
   ]
  },
  {
   "cell_type": "code",
   "execution_count": 41,
   "id": "6110b092-ce5a-4e7b-b69c-9363aaf6c892",
   "metadata": {},
   "outputs": [
    {
     "data": {
      "text/plain": [
       "mean    87027.387368\n",
       "50%     65796.000000\n",
       "Name: population, dtype: float64"
      ]
     },
     "execution_count": 41,
     "metadata": {},
     "output_type": "execute_result"
    }
   ],
   "source": [
    "df.loc[50:, 'population'].describe()[['mean', '50%']]"
   ]
  },
  {
   "cell_type": "code",
   "execution_count": 42,
   "id": "904831ea-7885-40f4-9aef-e7f3ed15dbae",
   "metadata": {},
   "outputs": [
    {
     "data": {
      "text/plain": [
       "state\n",
       "California              212\n",
       "Texas                    83\n",
       "Florida                  73\n",
       "Illinois                 52\n",
       "Massachusetts            36\n",
       "Ohio                     33\n",
       "Michigan                 31\n",
       "Washington               28\n",
       "Arizona                  25\n",
       "Minnesota                24\n",
       "North Carolina           22\n",
       "New Jersey               22\n",
       "Indiana                  21\n",
       "Colorado                 21\n",
       "Wisconsin                20\n",
       "Utah                     19\n",
       "Georgia                  18\n",
       "Virginia                 17\n",
       "New York                 17\n",
       "Tennessee                17\n",
       "Missouri                 16\n",
       "Connecticut              15\n",
       "Oregon                   14\n",
       "Pennsylvania             13\n",
       "Iowa                     13\n",
       "South Carolina           12\n",
       "Alabama                  12\n",
       "Kansas                   11\n",
       "Oklahoma                 11\n",
       "Arkansas                 10\n",
       "Louisiana                 9\n",
       "Idaho                     8\n",
       "Maryland                  7\n",
       "New Mexico                7\n",
       "Mississippi               6\n",
       "Rhode Island              6\n",
       "Nevada                    6\n",
       "Kentucky                  5\n",
       "Nebraska                  4\n",
       "North Dakota              4\n",
       "Montana                   4\n",
       "New Hampshire             3\n",
       "South Dakota              2\n",
       "Delaware                  2\n",
       "Wyoming                   2\n",
       "West Virginia             2\n",
       "Alaska                    1\n",
       "Hawaii                    1\n",
       "District of Columbia      1\n",
       "Maine                     1\n",
       "Vermont                   1\n",
       "Name: count, dtype: int64"
      ]
     },
     "execution_count": 42,
     "metadata": {},
     "output_type": "execute_result"
    }
   ],
   "source": [
    "df[\"state\"].value_counts()"
   ]
  },
  {
   "cell_type": "code",
   "execution_count": null,
   "id": "a368576f-1436-4fa5-bb12-ec8f6c8def54",
   "metadata": {},
   "outputs": [],
   "source": []
  }
 ],
 "metadata": {
  "kernelspec": {
   "display_name": "Python 3 (ipykernel)",
   "language": "python",
   "name": "python3"
  },
  "language_info": {
   "codemirror_mode": {
    "name": "ipython",
    "version": 3
   },
   "file_extension": ".py",
   "mimetype": "text/x-python",
   "name": "python",
   "nbconvert_exporter": "python",
   "pygments_lexer": "ipython3",
   "version": "3.12.8"
  }
 },
 "nbformat": 4,
 "nbformat_minor": 5
}
