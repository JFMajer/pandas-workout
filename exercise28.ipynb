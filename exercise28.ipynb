{
 "cells": [
  {
   "cell_type": "code",
   "execution_count": 1,
   "id": "c9558c01-f09e-4bf4-aeca-5d4da5f16958",
   "metadata": {},
   "outputs": [],
   "source": [
    "import pandas as pd\n",
    "import numpy as np"
   ]
  },
  {
   "cell_type": "code",
   "execution_count": 2,
   "id": "eb82425e-5f3e-43d6-9b85-5ed2551bbcaf",
   "metadata": {},
   "outputs": [],
   "source": [
    "df = pd.read_csv(\"/Users/jakub/data/nyc-parking-violations-2020.csv\", \n",
    "                 usecols=[\"Plate ID\", \"Registration State\", \"Vehicle Make\", \"Street Name\", \"Vehicle Color\"])"
   ]
  },
  {
   "cell_type": "code",
   "execution_count": 8,
   "id": "d8f38cc3-58c8-43fc-864e-c0b0a8153604",
   "metadata": {},
   "outputs": [
    {
     "data": {
      "text/plain": [
       "1897"
      ]
     },
     "execution_count": 8,
     "metadata": {},
     "output_type": "execute_result"
    }
   ],
   "source": [
    "len(df[\"Vehicle Color\"].unique())"
   ]
  },
  {
   "cell_type": "code",
   "execution_count": 18,
   "id": "c4612be0-d2b2-45ac-b34b-99d92ff0ae40",
   "metadata": {},
   "outputs": [
    {
     "data": {
      "text/plain": [
       "Vehicle Color\n",
       "WHITE    3521461\n",
       "BLACK    2531484\n",
       "GRAY     2348558\n",
       "BL        775124\n",
       "RD        483298\n",
       "GREY      306787\n",
       "BROWN     292348\n",
       "SILVE     191477\n",
       "GR        182929\n",
       "BLUE      178298\n",
       "RED       161693\n",
       "TN        120576\n",
       "BR        102204\n",
       "YW         98700\n",
       "BLK        91539\n",
       "Name: count, dtype: int64"
      ]
     },
     "execution_count": 18,
     "metadata": {},
     "output_type": "execute_result"
    }
   ],
   "source": [
    "df[\"Vehicle Color\"].value_counts().nlargest(15)"
   ]
  },
  {
   "cell_type": "code",
   "execution_count": 15,
   "id": "e908956d-d4bd-4334-99d7-736fb2659d62",
   "metadata": {},
   "outputs": [],
   "source": [
    "colormap = {\"WH\": \"WHITE\", \"WHT\": \"WHITE\", \"WHI\": \"WHITE\", \"WT\": \"WHITE\", \"WT.\": \"WHITE\", \"GY\": \"GRAY\", \"BK\": \"BLACK\"}"
   ]
  },
  {
   "cell_type": "code",
   "execution_count": 16,
   "id": "a173bebf-30db-4b16-9b8c-71a432b20518",
   "metadata": {},
   "outputs": [],
   "source": [
    "df[\"Vehicle Color\"] = df[\"Vehicle Color\"].replace(colormap)"
   ]
  },
  {
   "cell_type": "code",
   "execution_count": 19,
   "id": "a78087d0-bf0e-42f7-bbad-271ce11d0e7d",
   "metadata": {},
   "outputs": [
    {
     "data": {
      "text/plain": [
       "Vehicle Color\n",
       "WHITE    3521461\n",
       "BLACK    2531484\n",
       "GRAY     2348558\n",
       "BL        775124\n",
       "RD        483298\n",
       "GREY      306787\n",
       "BROWN     292348\n",
       "SILVE     191477\n",
       "GR        182929\n",
       "BLUE      178298\n",
       "RED       161693\n",
       "TN        120576\n",
       "BR        102204\n",
       "YW         98700\n",
       "BLK        91539\n",
       "Name: count, dtype: int64"
      ]
     },
     "execution_count": 19,
     "metadata": {},
     "output_type": "execute_result"
    }
   ],
   "source": [
    "df[\"Vehicle Color\"].value_counts().nlargest(15)"
   ]
  },
  {
   "cell_type": "code",
   "execution_count": null,
   "id": "75975fb3-84f5-4ba9-b307-cacd3a2d64fb",
   "metadata": {},
   "outputs": [],
   "source": []
  }
 ],
 "metadata": {
  "kernelspec": {
   "display_name": "Python 3 (ipykernel)",
   "language": "python",
   "name": "python3"
  },
  "language_info": {
   "codemirror_mode": {
    "name": "ipython",
    "version": 3
   },
   "file_extension": ".py",
   "mimetype": "text/x-python",
   "name": "python",
   "nbconvert_exporter": "python",
   "pygments_lexer": "ipython3",
   "version": "3.12.8"
  }
 },
 "nbformat": 4,
 "nbformat_minor": 5
}
