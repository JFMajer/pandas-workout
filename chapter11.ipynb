{
  "nbformat": 4,
  "nbformat_minor": 0,
  "metadata": {
    "colab": {
      "provenance": [],
      "authorship_tag": "ABX9TyOgmJFBt+3mmQ+EzZPT3Ypi"
    },
    "kernelspec": {
      "name": "python3",
      "display_name": "Python 3"
    },
    "language_info": {
      "name": "python"
    }
  },
  "cells": [
    {
      "cell_type": "code",
      "execution_count": 1,
      "metadata": {
        "id": "_1yYmO34X2-X"
      },
      "outputs": [],
      "source": [
        "import numpy as np\n",
        "import pandas as pd"
      ]
    },
    {
      "cell_type": "code",
      "source": [
        "from datetime import datetime\n",
        "now = datetime.now()"
      ],
      "metadata": {
        "id": "TBy131gOYL9C"
      },
      "execution_count": 2,
      "outputs": []
    },
    {
      "cell_type": "code",
      "source": [
        "now"
      ],
      "metadata": {
        "colab": {
          "base_uri": "https://localhost:8080/"
        },
        "id": "NGiCHDKNYQUp",
        "outputId": "404f98b6-f0d7-4149-bdcf-12a56b44908f"
      },
      "execution_count": 3,
      "outputs": [
        {
          "output_type": "execute_result",
          "data": {
            "text/plain": [
              "datetime.datetime(2025, 2, 2, 11, 17, 14, 743131)"
            ]
          },
          "metadata": {},
          "execution_count": 3
        }
      ]
    },
    {
      "cell_type": "code",
      "source": [
        "now.year, now.month, now.day"
      ],
      "metadata": {
        "colab": {
          "base_uri": "https://localhost:8080/"
        },
        "id": "MyEtLjiDYRdd",
        "outputId": "5243d467-dc13-476e-d22f-03b660725f85"
      },
      "execution_count": 4,
      "outputs": [
        {
          "output_type": "execute_result",
          "data": {
            "text/plain": [
              "(2025, 2, 2)"
            ]
          },
          "metadata": {},
          "execution_count": 4
        }
      ]
    },
    {
      "cell_type": "code",
      "source": [
        "delta = datetime(2014, 3, 7) - datetime(2005, 3, 1)"
      ],
      "metadata": {
        "id": "_DLxOi6SYaaz"
      },
      "execution_count": 5,
      "outputs": []
    },
    {
      "cell_type": "code",
      "source": [
        "delta"
      ],
      "metadata": {
        "colab": {
          "base_uri": "https://localhost:8080/"
        },
        "id": "raK75D2rYjAJ",
        "outputId": "7156d008-438a-4d44-e868-0a24fc285fb0"
      },
      "execution_count": 6,
      "outputs": [
        {
          "output_type": "execute_result",
          "data": {
            "text/plain": [
              "datetime.timedelta(days=3293)"
            ]
          },
          "metadata": {},
          "execution_count": 6
        }
      ]
    },
    {
      "cell_type": "code",
      "source": [
        "stamp = datetime(2011, 4, 3)"
      ],
      "metadata": {
        "id": "MFx2dlSwYjdN"
      },
      "execution_count": 7,
      "outputs": []
    },
    {
      "cell_type": "code",
      "source": [
        "str(stamp)"
      ],
      "metadata": {
        "colab": {
          "base_uri": "https://localhost:8080/",
          "height": 35
        },
        "id": "gwIoOpmdYqSG",
        "outputId": "31e38188-6c9d-4221-844c-c417d27d3bf0"
      },
      "execution_count": 8,
      "outputs": [
        {
          "output_type": "execute_result",
          "data": {
            "text/plain": [
              "'2011-04-03 00:00:00'"
            ],
            "application/vnd.google.colaboratory.intrinsic+json": {
              "type": "string"
            }
          },
          "metadata": {},
          "execution_count": 8
        }
      ]
    },
    {
      "cell_type": "code",
      "source": [
        "stamp.strftime('%Y-%m-%d')"
      ],
      "metadata": {
        "colab": {
          "base_uri": "https://localhost:8080/",
          "height": 35
        },
        "id": "HZX766NuYrc2",
        "outputId": "3be6f939-9d5e-436d-98cd-851a86dccc9f"
      },
      "execution_count": 9,
      "outputs": [
        {
          "output_type": "execute_result",
          "data": {
            "text/plain": [
              "'2011-04-03'"
            ],
            "application/vnd.google.colaboratory.intrinsic+json": {
              "type": "string"
            }
          },
          "metadata": {},
          "execution_count": 9
        }
      ]
    },
    {
      "cell_type": "code",
      "source": [
        "value = \"2025-02-02\"\n",
        "datetime.strptime(value, '%Y-%m-%d')"
      ],
      "metadata": {
        "colab": {
          "base_uri": "https://localhost:8080/"
        },
        "id": "mEpHW89UYvpJ",
        "outputId": "4c509a51-f32b-43cb-8fca-6ba0cdaa23c9"
      },
      "execution_count": 10,
      "outputs": [
        {
          "output_type": "execute_result",
          "data": {
            "text/plain": [
              "datetime.datetime(2025, 2, 2, 0, 0)"
            ]
          },
          "metadata": {},
          "execution_count": 10
        }
      ]
    },
    {
      "cell_type": "code",
      "source": [
        "dates = [datetime(2011, 1, 2), datetime(2011, 1, 5),datetime(2011, 1, 7), datetime(2011, 1, 8), datetime(2011, 1, 10), datetime(2011, 1, 12)]\n",
        "ts = pd.Series(np.random.standard_normal(6), index=dates)"
      ],
      "metadata": {
        "id": "AmTXXdhralOr"
      },
      "execution_count": 13,
      "outputs": []
    },
    {
      "cell_type": "markdown",
      "source": [],
      "metadata": {
        "id": "AflbdEgDgSTW"
      }
    },
    {
      "cell_type": "code",
      "source": [
        "ts"
      ],
      "metadata": {
        "colab": {
          "base_uri": "https://localhost:8080/",
          "height": 272
        },
        "id": "lU-VOU0agPfs",
        "outputId": "71f3ebf7-4eb9-4402-9a12-8084230fc709"
      },
      "execution_count": 14,
      "outputs": [
        {
          "output_type": "execute_result",
          "data": {
            "text/plain": [
              "2011-01-02   -1.619662\n",
              "2011-01-05    1.945263\n",
              "2011-01-07    0.646599\n",
              "2011-01-08   -0.093872\n",
              "2011-01-10   -0.336441\n",
              "2011-01-12    0.280786\n",
              "dtype: float64"
            ],
            "text/html": [
              "<div>\n",
              "<style scoped>\n",
              "    .dataframe tbody tr th:only-of-type {\n",
              "        vertical-align: middle;\n",
              "    }\n",
              "\n",
              "    .dataframe tbody tr th {\n",
              "        vertical-align: top;\n",
              "    }\n",
              "\n",
              "    .dataframe thead th {\n",
              "        text-align: right;\n",
              "    }\n",
              "</style>\n",
              "<table border=\"1\" class=\"dataframe\">\n",
              "  <thead>\n",
              "    <tr style=\"text-align: right;\">\n",
              "      <th></th>\n",
              "      <th>0</th>\n",
              "    </tr>\n",
              "  </thead>\n",
              "  <tbody>\n",
              "    <tr>\n",
              "      <th>2011-01-02</th>\n",
              "      <td>-1.619662</td>\n",
              "    </tr>\n",
              "    <tr>\n",
              "      <th>2011-01-05</th>\n",
              "      <td>1.945263</td>\n",
              "    </tr>\n",
              "    <tr>\n",
              "      <th>2011-01-07</th>\n",
              "      <td>0.646599</td>\n",
              "    </tr>\n",
              "    <tr>\n",
              "      <th>2011-01-08</th>\n",
              "      <td>-0.093872</td>\n",
              "    </tr>\n",
              "    <tr>\n",
              "      <th>2011-01-10</th>\n",
              "      <td>-0.336441</td>\n",
              "    </tr>\n",
              "    <tr>\n",
              "      <th>2011-01-12</th>\n",
              "      <td>0.280786</td>\n",
              "    </tr>\n",
              "  </tbody>\n",
              "</table>\n",
              "</div><br><label><b>dtype:</b> float64</label>"
            ]
          },
          "metadata": {},
          "execution_count": 14
        }
      ]
    },
    {
      "cell_type": "code",
      "source": [
        "stamp = ts.index[2]\n",
        "ts[stamp]"
      ],
      "metadata": {
        "colab": {
          "base_uri": "https://localhost:8080/"
        },
        "id": "oCaUlip4gT_Q",
        "outputId": "62cca086-3d84-42df-b544-6f38e0f3c3de"
      },
      "execution_count": 16,
      "outputs": [
        {
          "output_type": "execute_result",
          "data": {
            "text/plain": [
              "0.6465989593792338"
            ]
          },
          "metadata": {},
          "execution_count": 16
        }
      ]
    },
    {
      "cell_type": "code",
      "source": [
        "ts[\"2011-01-08\"]"
      ],
      "metadata": {
        "colab": {
          "base_uri": "https://localhost:8080/"
        },
        "id": "R4sCsE2igel4",
        "outputId": "ab5b09a5-33d7-4e3f-8d58-2ce7395fa375"
      },
      "execution_count": 17,
      "outputs": [
        {
          "output_type": "execute_result",
          "data": {
            "text/plain": [
              "-0.09387186518303163"
            ]
          },
          "metadata": {},
          "execution_count": 17
        }
      ]
    },
    {
      "cell_type": "code",
      "source": [
        " longer_ts = pd.Series(np.random.standard_normal(1000), index=pd.date_range(\"2000-01-01\", periods=1000))"
      ],
      "metadata": {
        "id": "NhsflaVEh45q"
      },
      "execution_count": 19,
      "outputs": []
    },
    {
      "cell_type": "code",
      "source": [
        "longer_ts[\"2001-05\"]"
      ],
      "metadata": {
        "colab": {
          "base_uri": "https://localhost:8080/",
          "height": 1000
        },
        "id": "RmWaEajIh77L",
        "outputId": "e3bb7c5e-db35-467b-86a0-e7afa5c99a2b"
      },
      "execution_count": 22,
      "outputs": [
        {
          "output_type": "execute_result",
          "data": {
            "text/plain": [
              "2001-05-01   -1.285242\n",
              "2001-05-02    0.203607\n",
              "2001-05-03    0.387042\n",
              "2001-05-04    0.807085\n",
              "2001-05-05    0.510489\n",
              "2001-05-06    0.049200\n",
              "2001-05-07    0.083325\n",
              "2001-05-08   -1.176876\n",
              "2001-05-09    0.340238\n",
              "2001-05-10    0.560523\n",
              "2001-05-11    1.157698\n",
              "2001-05-12    0.292707\n",
              "2001-05-13   -1.038346\n",
              "2001-05-14   -0.585498\n",
              "2001-05-15   -0.518468\n",
              "2001-05-16   -0.678454\n",
              "2001-05-17   -1.047326\n",
              "2001-05-18    0.810005\n",
              "2001-05-19   -1.412400\n",
              "2001-05-20    1.008818\n",
              "2001-05-21   -0.193509\n",
              "2001-05-22   -0.862502\n",
              "2001-05-23   -0.743999\n",
              "2001-05-24    0.179497\n",
              "2001-05-25   -1.358985\n",
              "2001-05-26   -2.042074\n",
              "2001-05-27   -0.079702\n",
              "2001-05-28    0.066170\n",
              "2001-05-29    0.745672\n",
              "2001-05-30   -0.405379\n",
              "2001-05-31   -0.697998\n",
              "Freq: D, dtype: float64"
            ],
            "text/html": [
              "<div>\n",
              "<style scoped>\n",
              "    .dataframe tbody tr th:only-of-type {\n",
              "        vertical-align: middle;\n",
              "    }\n",
              "\n",
              "    .dataframe tbody tr th {\n",
              "        vertical-align: top;\n",
              "    }\n",
              "\n",
              "    .dataframe thead th {\n",
              "        text-align: right;\n",
              "    }\n",
              "</style>\n",
              "<table border=\"1\" class=\"dataframe\">\n",
              "  <thead>\n",
              "    <tr style=\"text-align: right;\">\n",
              "      <th></th>\n",
              "      <th>0</th>\n",
              "    </tr>\n",
              "  </thead>\n",
              "  <tbody>\n",
              "    <tr>\n",
              "      <th>2001-05-01</th>\n",
              "      <td>-1.285242</td>\n",
              "    </tr>\n",
              "    <tr>\n",
              "      <th>2001-05-02</th>\n",
              "      <td>0.203607</td>\n",
              "    </tr>\n",
              "    <tr>\n",
              "      <th>2001-05-03</th>\n",
              "      <td>0.387042</td>\n",
              "    </tr>\n",
              "    <tr>\n",
              "      <th>2001-05-04</th>\n",
              "      <td>0.807085</td>\n",
              "    </tr>\n",
              "    <tr>\n",
              "      <th>2001-05-05</th>\n",
              "      <td>0.510489</td>\n",
              "    </tr>\n",
              "    <tr>\n",
              "      <th>2001-05-06</th>\n",
              "      <td>0.049200</td>\n",
              "    </tr>\n",
              "    <tr>\n",
              "      <th>2001-05-07</th>\n",
              "      <td>0.083325</td>\n",
              "    </tr>\n",
              "    <tr>\n",
              "      <th>2001-05-08</th>\n",
              "      <td>-1.176876</td>\n",
              "    </tr>\n",
              "    <tr>\n",
              "      <th>2001-05-09</th>\n",
              "      <td>0.340238</td>\n",
              "    </tr>\n",
              "    <tr>\n",
              "      <th>2001-05-10</th>\n",
              "      <td>0.560523</td>\n",
              "    </tr>\n",
              "    <tr>\n",
              "      <th>2001-05-11</th>\n",
              "      <td>1.157698</td>\n",
              "    </tr>\n",
              "    <tr>\n",
              "      <th>2001-05-12</th>\n",
              "      <td>0.292707</td>\n",
              "    </tr>\n",
              "    <tr>\n",
              "      <th>2001-05-13</th>\n",
              "      <td>-1.038346</td>\n",
              "    </tr>\n",
              "    <tr>\n",
              "      <th>2001-05-14</th>\n",
              "      <td>-0.585498</td>\n",
              "    </tr>\n",
              "    <tr>\n",
              "      <th>2001-05-15</th>\n",
              "      <td>-0.518468</td>\n",
              "    </tr>\n",
              "    <tr>\n",
              "      <th>2001-05-16</th>\n",
              "      <td>-0.678454</td>\n",
              "    </tr>\n",
              "    <tr>\n",
              "      <th>2001-05-17</th>\n",
              "      <td>-1.047326</td>\n",
              "    </tr>\n",
              "    <tr>\n",
              "      <th>2001-05-18</th>\n",
              "      <td>0.810005</td>\n",
              "    </tr>\n",
              "    <tr>\n",
              "      <th>2001-05-19</th>\n",
              "      <td>-1.412400</td>\n",
              "    </tr>\n",
              "    <tr>\n",
              "      <th>2001-05-20</th>\n",
              "      <td>1.008818</td>\n",
              "    </tr>\n",
              "    <tr>\n",
              "      <th>2001-05-21</th>\n",
              "      <td>-0.193509</td>\n",
              "    </tr>\n",
              "    <tr>\n",
              "      <th>2001-05-22</th>\n",
              "      <td>-0.862502</td>\n",
              "    </tr>\n",
              "    <tr>\n",
              "      <th>2001-05-23</th>\n",
              "      <td>-0.743999</td>\n",
              "    </tr>\n",
              "    <tr>\n",
              "      <th>2001-05-24</th>\n",
              "      <td>0.179497</td>\n",
              "    </tr>\n",
              "    <tr>\n",
              "      <th>2001-05-25</th>\n",
              "      <td>-1.358985</td>\n",
              "    </tr>\n",
              "    <tr>\n",
              "      <th>2001-05-26</th>\n",
              "      <td>-2.042074</td>\n",
              "    </tr>\n",
              "    <tr>\n",
              "      <th>2001-05-27</th>\n",
              "      <td>-0.079702</td>\n",
              "    </tr>\n",
              "    <tr>\n",
              "      <th>2001-05-28</th>\n",
              "      <td>0.066170</td>\n",
              "    </tr>\n",
              "    <tr>\n",
              "      <th>2001-05-29</th>\n",
              "      <td>0.745672</td>\n",
              "    </tr>\n",
              "    <tr>\n",
              "      <th>2001-05-30</th>\n",
              "      <td>-0.405379</td>\n",
              "    </tr>\n",
              "    <tr>\n",
              "      <th>2001-05-31</th>\n",
              "      <td>-0.697998</td>\n",
              "    </tr>\n",
              "  </tbody>\n",
              "</table>\n",
              "</div><br><label><b>dtype:</b> float64</label>"
            ]
          },
          "metadata": {},
          "execution_count": 22
        }
      ]
    },
    {
      "cell_type": "code",
      "source": [
        "longer_ts[\"2001\"]"
      ],
      "metadata": {
        "colab": {
          "base_uri": "https://localhost:8080/",
          "height": 459
        },
        "id": "tjZwB0q2h9jT",
        "outputId": "8e88c7ae-7d7c-4190-a4dc-25903795734c"
      },
      "execution_count": 21,
      "outputs": [
        {
          "output_type": "execute_result",
          "data": {
            "text/plain": [
              "2001-01-01    0.486067\n",
              "2001-01-02   -1.637001\n",
              "2001-01-03    1.747885\n",
              "2001-01-04    0.378852\n",
              "2001-01-05    0.557898\n",
              "                ...   \n",
              "2001-12-27    1.236877\n",
              "2001-12-28   -0.459091\n",
              "2001-12-29   -1.900973\n",
              "2001-12-30    0.856205\n",
              "2001-12-31   -1.126587\n",
              "Freq: D, Length: 365, dtype: float64"
            ],
            "text/html": [
              "<div>\n",
              "<style scoped>\n",
              "    .dataframe tbody tr th:only-of-type {\n",
              "        vertical-align: middle;\n",
              "    }\n",
              "\n",
              "    .dataframe tbody tr th {\n",
              "        vertical-align: top;\n",
              "    }\n",
              "\n",
              "    .dataframe thead th {\n",
              "        text-align: right;\n",
              "    }\n",
              "</style>\n",
              "<table border=\"1\" class=\"dataframe\">\n",
              "  <thead>\n",
              "    <tr style=\"text-align: right;\">\n",
              "      <th></th>\n",
              "      <th>0</th>\n",
              "    </tr>\n",
              "  </thead>\n",
              "  <tbody>\n",
              "    <tr>\n",
              "      <th>2001-01-01</th>\n",
              "      <td>0.486067</td>\n",
              "    </tr>\n",
              "    <tr>\n",
              "      <th>2001-01-02</th>\n",
              "      <td>-1.637001</td>\n",
              "    </tr>\n",
              "    <tr>\n",
              "      <th>2001-01-03</th>\n",
              "      <td>1.747885</td>\n",
              "    </tr>\n",
              "    <tr>\n",
              "      <th>2001-01-04</th>\n",
              "      <td>0.378852</td>\n",
              "    </tr>\n",
              "    <tr>\n",
              "      <th>2001-01-05</th>\n",
              "      <td>0.557898</td>\n",
              "    </tr>\n",
              "    <tr>\n",
              "      <th>...</th>\n",
              "      <td>...</td>\n",
              "    </tr>\n",
              "    <tr>\n",
              "      <th>2001-12-27</th>\n",
              "      <td>1.236877</td>\n",
              "    </tr>\n",
              "    <tr>\n",
              "      <th>2001-12-28</th>\n",
              "      <td>-0.459091</td>\n",
              "    </tr>\n",
              "    <tr>\n",
              "      <th>2001-12-29</th>\n",
              "      <td>-1.900973</td>\n",
              "    </tr>\n",
              "    <tr>\n",
              "      <th>2001-12-30</th>\n",
              "      <td>0.856205</td>\n",
              "    </tr>\n",
              "    <tr>\n",
              "      <th>2001-12-31</th>\n",
              "      <td>-1.126587</td>\n",
              "    </tr>\n",
              "  </tbody>\n",
              "</table>\n",
              "<p>365 rows × 1 columns</p>\n",
              "</div><br><label><b>dtype:</b> float64</label>"
            ]
          },
          "metadata": {},
          "execution_count": 21
        }
      ]
    },
    {
      "cell_type": "code",
      "source": [
        "ts"
      ],
      "metadata": {
        "colab": {
          "base_uri": "https://localhost:8080/",
          "height": 272
        },
        "id": "O0CwDFEwiA6y",
        "outputId": "26722132-383b-403d-ae99-50ea8e3d49ff"
      },
      "execution_count": 23,
      "outputs": [
        {
          "output_type": "execute_result",
          "data": {
            "text/plain": [
              "2011-01-02   -1.619662\n",
              "2011-01-05    1.945263\n",
              "2011-01-07    0.646599\n",
              "2011-01-08   -0.093872\n",
              "2011-01-10   -0.336441\n",
              "2011-01-12    0.280786\n",
              "dtype: float64"
            ],
            "text/html": [
              "<div>\n",
              "<style scoped>\n",
              "    .dataframe tbody tr th:only-of-type {\n",
              "        vertical-align: middle;\n",
              "    }\n",
              "\n",
              "    .dataframe tbody tr th {\n",
              "        vertical-align: top;\n",
              "    }\n",
              "\n",
              "    .dataframe thead th {\n",
              "        text-align: right;\n",
              "    }\n",
              "</style>\n",
              "<table border=\"1\" class=\"dataframe\">\n",
              "  <thead>\n",
              "    <tr style=\"text-align: right;\">\n",
              "      <th></th>\n",
              "      <th>0</th>\n",
              "    </tr>\n",
              "  </thead>\n",
              "  <tbody>\n",
              "    <tr>\n",
              "      <th>2011-01-02</th>\n",
              "      <td>-1.619662</td>\n",
              "    </tr>\n",
              "    <tr>\n",
              "      <th>2011-01-05</th>\n",
              "      <td>1.945263</td>\n",
              "    </tr>\n",
              "    <tr>\n",
              "      <th>2011-01-07</th>\n",
              "      <td>0.646599</td>\n",
              "    </tr>\n",
              "    <tr>\n",
              "      <th>2011-01-08</th>\n",
              "      <td>-0.093872</td>\n",
              "    </tr>\n",
              "    <tr>\n",
              "      <th>2011-01-10</th>\n",
              "      <td>-0.336441</td>\n",
              "    </tr>\n",
              "    <tr>\n",
              "      <th>2011-01-12</th>\n",
              "      <td>0.280786</td>\n",
              "    </tr>\n",
              "  </tbody>\n",
              "</table>\n",
              "</div><br><label><b>dtype:</b> float64</label>"
            ]
          },
          "metadata": {},
          "execution_count": 23
        }
      ]
    },
    {
      "cell_type": "code",
      "source": [
        "resampler = ts.resample(\"D\")"
      ],
      "metadata": {
        "id": "u-uiPVs5qBtq"
      },
      "execution_count": 24,
      "outputs": []
    },
    {
      "cell_type": "code",
      "source": [
        "resampler"
      ],
      "metadata": {
        "colab": {
          "base_uri": "https://localhost:8080/"
        },
        "id": "vErfRXsiqJFM",
        "outputId": "586f524a-c504-4290-e904-d0a31448015e"
      },
      "execution_count": 25,
      "outputs": [
        {
          "output_type": "execute_result",
          "data": {
            "text/plain": [
              "<pandas.core.resample.DatetimeIndexResampler object at 0x7b0ee0779050>"
            ]
          },
          "metadata": {},
          "execution_count": 25
        }
      ]
    },
    {
      "cell_type": "code",
      "source": [
        "index = pd.date_range(\"2012-04-01\", \"2012-06-01\")\n",
        "index"
      ],
      "metadata": {
        "colab": {
          "base_uri": "https://localhost:8080/"
        },
        "id": "t0fi9CUMqJ9z",
        "outputId": "fe2b7922-475f-4c5a-d879-537817003cbe"
      },
      "execution_count": 26,
      "outputs": [
        {
          "output_type": "execute_result",
          "data": {
            "text/plain": [
              "DatetimeIndex(['2012-04-01', '2012-04-02', '2012-04-03', '2012-04-04',\n",
              "               '2012-04-05', '2012-04-06', '2012-04-07', '2012-04-08',\n",
              "               '2012-04-09', '2012-04-10', '2012-04-11', '2012-04-12',\n",
              "               '2012-04-13', '2012-04-14', '2012-04-15', '2012-04-16',\n",
              "               '2012-04-17', '2012-04-18', '2012-04-19', '2012-04-20',\n",
              "               '2012-04-21', '2012-04-22', '2012-04-23', '2012-04-24',\n",
              "               '2012-04-25', '2012-04-26', '2012-04-27', '2012-04-28',\n",
              "               '2012-04-29', '2012-04-30', '2012-05-01', '2012-05-02',\n",
              "               '2012-05-03', '2012-05-04', '2012-05-05', '2012-05-06',\n",
              "               '2012-05-07', '2012-05-08', '2012-05-09', '2012-05-10',\n",
              "               '2012-05-11', '2012-05-12', '2012-05-13', '2012-05-14',\n",
              "               '2012-05-15', '2012-05-16', '2012-05-17', '2012-05-18',\n",
              "               '2012-05-19', '2012-05-20', '2012-05-21', '2012-05-22',\n",
              "               '2012-05-23', '2012-05-24', '2012-05-25', '2012-05-26',\n",
              "               '2012-05-27', '2012-05-28', '2012-05-29', '2012-05-30',\n",
              "               '2012-05-31', '2012-06-01'],\n",
              "              dtype='datetime64[ns]', freq='D')"
            ]
          },
          "metadata": {},
          "execution_count": 26
        }
      ]
    },
    {
      "cell_type": "code",
      "source": [
        "pd.date_range(\"2000-01-01\", \"2000-01-03 23:59\", freq=\"4h\")"
      ],
      "metadata": {
        "colab": {
          "base_uri": "https://localhost:8080/"
        },
        "id": "Cf6fgN4_qxY-",
        "outputId": "d75cce3f-b069-4283-feef-007708975a3b"
      },
      "execution_count": 28,
      "outputs": [
        {
          "output_type": "execute_result",
          "data": {
            "text/plain": [
              "DatetimeIndex(['2000-01-01 00:00:00', '2000-01-01 04:00:00',\n",
              "               '2000-01-01 08:00:00', '2000-01-01 12:00:00',\n",
              "               '2000-01-01 16:00:00', '2000-01-01 20:00:00',\n",
              "               '2000-01-02 00:00:00', '2000-01-02 04:00:00',\n",
              "               '2000-01-02 08:00:00', '2000-01-02 12:00:00',\n",
              "               '2000-01-02 16:00:00', '2000-01-02 20:00:00',\n",
              "               '2000-01-03 00:00:00', '2000-01-03 04:00:00',\n",
              "               '2000-01-03 08:00:00', '2000-01-03 12:00:00',\n",
              "               '2000-01-03 16:00:00', '2000-01-03 20:00:00'],\n",
              "              dtype='datetime64[ns]', freq='4h')"
            ]
          },
          "metadata": {},
          "execution_count": 28
        }
      ]
    },
    {
      "cell_type": "code",
      "source": [],
      "metadata": {
        "id": "MgGsLvj1uAcH"
      },
      "execution_count": null,
      "outputs": []
    }
  ]
}