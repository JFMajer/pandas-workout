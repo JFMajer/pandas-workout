{
 "cells": [
  {
   "cell_type": "code",
   "execution_count": 34,
   "id": "34241954-cab3-4fae-87da-09615c4d835a",
   "metadata": {},
   "outputs": [],
   "source": [
    "import pandas as pd\n",
    "import numpy as np\n",
    "import os"
   ]
  },
  {
   "cell_type": "code",
   "execution_count": 35,
   "id": "e10bd476-4e1c-41fd-8235-1dced9078453",
   "metadata": {},
   "outputs": [],
   "source": [
    "filenames = [\"albany,ny.csv\", \"boston,ma.csv\", \"chicago,il.csv\", \"san+francisco,ca.csv\", \"springfield,il.csv\", \"springfield,ma.csv\", \"los+angeles,ca.csv\", \"new+york,ny.csv\"]\n",
    "dataframes = {}"
   ]
  },
  {
   "cell_type": "code",
   "execution_count": 36,
   "id": "d071431d-f8ff-4408-bace-6c6a6708087c",
   "metadata": {},
   "outputs": [],
   "source": [
    "for i, f in enumerate(filenames):\n",
    "    without_extension = os.path.splitext(f)[0]\n",
    "    splitted = without_extension.split(\",\")\n",
    "    df_name = f\"df{i}\"\n",
    "    df = pd.read_csv(f\"/Users/jakub/data/{f}\", usecols=[0, 1, 2], names=['date_time', 'max_temp', 'min_temp'], header=0)\n",
    "    df[\"city\"] = splitted[0]\n",
    "    df[\"state\"] = splitted[1]\n",
    "    dataframes[df_name] = df\n",
    "    "
   ]
  },
  {
   "cell_type": "code",
   "execution_count": 38,
   "id": "23cf2824-ed2c-46af-b262-f8604eac545d",
   "metadata": {},
   "outputs": [],
   "source": [
    "df_all = pd.DataFrame()"
   ]
  },
  {
   "cell_type": "code",
   "execution_count": 39,
   "id": "a5b06176-4439-4dc6-947d-e584842781bd",
   "metadata": {},
   "outputs": [],
   "source": [
    "for _, df in dataframes.items():\n",
    "    df_all = pd.concat([df_all, df], ignore_index=True)"
   ]
  },
  {
   "cell_type": "code",
   "execution_count": 40,
   "id": "eaf8b02e-e076-42e1-bfd0-3545fa89101a",
   "metadata": {},
   "outputs": [
    {
     "data": {
      "text/html": [
       "<div>\n",
       "<style scoped>\n",
       "    .dataframe tbody tr th:only-of-type {\n",
       "        vertical-align: middle;\n",
       "    }\n",
       "\n",
       "    .dataframe tbody tr th {\n",
       "        vertical-align: top;\n",
       "    }\n",
       "\n",
       "    .dataframe thead th {\n",
       "        text-align: right;\n",
       "    }\n",
       "</style>\n",
       "<table border=\"1\" class=\"dataframe\">\n",
       "  <thead>\n",
       "    <tr style=\"text-align: right;\">\n",
       "      <th></th>\n",
       "      <th>date_time</th>\n",
       "      <th>max_temp</th>\n",
       "      <th>min_temp</th>\n",
       "      <th>city</th>\n",
       "      <th>state</th>\n",
       "    </tr>\n",
       "  </thead>\n",
       "  <tbody>\n",
       "    <tr>\n",
       "      <th>0</th>\n",
       "      <td>2018-12-11 00:00:00</td>\n",
       "      <td>-2</td>\n",
       "      <td>-8</td>\n",
       "      <td>albany</td>\n",
       "      <td>ny</td>\n",
       "    </tr>\n",
       "    <tr>\n",
       "      <th>1</th>\n",
       "      <td>2018-12-11 03:00:00</td>\n",
       "      <td>-2</td>\n",
       "      <td>-8</td>\n",
       "      <td>albany</td>\n",
       "      <td>ny</td>\n",
       "    </tr>\n",
       "    <tr>\n",
       "      <th>2</th>\n",
       "      <td>2018-12-11 06:00:00</td>\n",
       "      <td>-2</td>\n",
       "      <td>-8</td>\n",
       "      <td>albany</td>\n",
       "      <td>ny</td>\n",
       "    </tr>\n",
       "    <tr>\n",
       "      <th>3</th>\n",
       "      <td>2018-12-11 09:00:00</td>\n",
       "      <td>-2</td>\n",
       "      <td>-8</td>\n",
       "      <td>albany</td>\n",
       "      <td>ny</td>\n",
       "    </tr>\n",
       "    <tr>\n",
       "      <th>4</th>\n",
       "      <td>2018-12-11 12:00:00</td>\n",
       "      <td>-2</td>\n",
       "      <td>-8</td>\n",
       "      <td>albany</td>\n",
       "      <td>ny</td>\n",
       "    </tr>\n",
       "    <tr>\n",
       "      <th>...</th>\n",
       "      <td>...</td>\n",
       "      <td>...</td>\n",
       "      <td>...</td>\n",
       "      <td>...</td>\n",
       "      <td>...</td>\n",
       "    </tr>\n",
       "    <tr>\n",
       "      <th>5819</th>\n",
       "      <td>2019-03-11 09:00:00</td>\n",
       "      <td>6</td>\n",
       "      <td>2</td>\n",
       "      <td>new+york</td>\n",
       "      <td>ny</td>\n",
       "    </tr>\n",
       "    <tr>\n",
       "      <th>5820</th>\n",
       "      <td>2019-03-11 12:00:00</td>\n",
       "      <td>6</td>\n",
       "      <td>2</td>\n",
       "      <td>new+york</td>\n",
       "      <td>ny</td>\n",
       "    </tr>\n",
       "    <tr>\n",
       "      <th>5821</th>\n",
       "      <td>2019-03-11 15:00:00</td>\n",
       "      <td>6</td>\n",
       "      <td>2</td>\n",
       "      <td>new+york</td>\n",
       "      <td>ny</td>\n",
       "    </tr>\n",
       "    <tr>\n",
       "      <th>5822</th>\n",
       "      <td>2019-03-11 18:00:00</td>\n",
       "      <td>6</td>\n",
       "      <td>2</td>\n",
       "      <td>new+york</td>\n",
       "      <td>ny</td>\n",
       "    </tr>\n",
       "    <tr>\n",
       "      <th>5823</th>\n",
       "      <td>2019-03-11 21:00:00</td>\n",
       "      <td>6</td>\n",
       "      <td>2</td>\n",
       "      <td>new+york</td>\n",
       "      <td>ny</td>\n",
       "    </tr>\n",
       "  </tbody>\n",
       "</table>\n",
       "<p>5824 rows × 5 columns</p>\n",
       "</div>"
      ],
      "text/plain": [
       "                date_time  max_temp  min_temp      city state\n",
       "0     2018-12-11 00:00:00        -2        -8    albany    ny\n",
       "1     2018-12-11 03:00:00        -2        -8    albany    ny\n",
       "2     2018-12-11 06:00:00        -2        -8    albany    ny\n",
       "3     2018-12-11 09:00:00        -2        -8    albany    ny\n",
       "4     2018-12-11 12:00:00        -2        -8    albany    ny\n",
       "...                   ...       ...       ...       ...   ...\n",
       "5819  2019-03-11 09:00:00         6         2  new+york    ny\n",
       "5820  2019-03-11 12:00:00         6         2  new+york    ny\n",
       "5821  2019-03-11 15:00:00         6         2  new+york    ny\n",
       "5822  2019-03-11 18:00:00         6         2  new+york    ny\n",
       "5823  2019-03-11 21:00:00         6         2  new+york    ny\n",
       "\n",
       "[5824 rows x 5 columns]"
      ]
     },
     "execution_count": 40,
     "metadata": {},
     "output_type": "execute_result"
    }
   ],
   "source": [
    "df_all"
   ]
  },
  {
   "cell_type": "code",
   "execution_count": 43,
   "id": "a72f69fa-2e75-477a-853b-894a59e99a3e",
   "metadata": {},
   "outputs": [
    {
     "data": {
      "text/plain": [
       "city           state\n",
       "albany         ny      -19\n",
       "boston         ma      -14\n",
       "chicago        il      -28\n",
       "los+angeles    ca        4\n",
       "new+york       ny      -14\n",
       "san+francisco  ca        3\n",
       "springfield    il      -25\n",
       "               ma      -20\n",
       "Name: min_temp, dtype: int64"
      ]
     },
     "execution_count": 43,
     "metadata": {},
     "output_type": "execute_result"
    }
   ],
   "source": [
    "df_all.groupby([\"city\", \"state\"])[\"min_temp\"].min()"
   ]
  },
  {
   "cell_type": "code",
   "execution_count": 44,
   "id": "69b5df0e-20f6-43ba-ab5a-a8890f876e46",
   "metadata": {},
   "outputs": [
    {
     "data": {
      "text/plain": [
       "state\n",
       "ca    23\n",
       "il    16\n",
       "ma    17\n",
       "ny    15\n",
       "Name: max_temp, dtype: int64"
      ]
     },
     "execution_count": 44,
     "metadata": {},
     "output_type": "execute_result"
    }
   ],
   "source": [
    "df_all.groupby([\"state\"])[\"max_temp\"].max()"
   ]
  },
  {
   "cell_type": "code",
   "execution_count": null,
   "id": "2d2b5509-b71a-4324-9408-22b8de18ac3d",
   "metadata": {},
   "outputs": [],
   "source": []
  }
 ],
 "metadata": {
  "kernelspec": {
   "display_name": "Python 3 (ipykernel)",
   "language": "python",
   "name": "python3"
  },
  "language_info": {
   "codemirror_mode": {
    "name": "ipython",
    "version": 3
   },
   "file_extension": ".py",
   "mimetype": "text/x-python",
   "name": "python",
   "nbconvert_exporter": "python",
   "pygments_lexer": "ipython3",
   "version": "3.12.8"
  }
 },
 "nbformat": 4,
 "nbformat_minor": 5
}
